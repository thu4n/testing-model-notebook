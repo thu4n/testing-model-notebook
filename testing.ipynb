{
  "cells": [
    {
      "cell_type": "markdown",
      "metadata": {
        "id": "Qfr-5POhnBXJ"
      },
      "source": [
        "# Load dataset"
      ]
    },
    {
      "cell_type": "code",
      "source": [
        "from google.colab import drive\n",
        "drive.mount('/content/drive')"
      ],
      "metadata": {
        "colab": {
          "base_uri": "https://localhost:8080/"
        },
        "id": "XOLN8N93j85Z",
        "outputId": "89feecb7-5aad-4be3-fc75-f7bfdaafbaef"
      },
      "execution_count": 2,
      "outputs": [
        {
          "output_type": "stream",
          "name": "stdout",
          "text": [
            "Mounted at /content/drive\n"
          ]
        }
      ]
    },
    {
      "cell_type": "code",
      "execution_count": 5,
      "metadata": {
        "id": "wiLYp5p6F79o",
        "colab": {
          "base_uri": "https://localhost:8080/"
        },
        "outputId": "d5b10b4f-32cb-48e5-e581-3cb7db989993"
      },
      "outputs": [
        {
          "output_type": "stream",
          "name": "stdout",
          "text": [
            "        pathloss  doppler shift label\n",
            "0     -23.265006       3.722180    NA\n",
            "1     -16.482655       1.153439    NA\n",
            "2     -14.824642       0.859113    NA\n",
            "3     -18.508977      -1.653258    NA\n",
            "4     -12.481515       1.505040    LA\n",
            "...          ...            ...   ...\n",
            "22004 -12.296848      -1.881210    NA\n",
            "22005   4.667890      -0.824496    NA\n",
            "22006  -1.851043      -2.783185    NA\n",
            "22007   4.722575      -1.217843    NA\n",
            "22008  -0.278318      -1.183628    NA\n",
            "\n",
            "[22009 rows x 3 columns]\n"
          ]
        }
      ],
      "source": [
        "import pandas as pd\n",
        "\n",
        "# read csv file into a pandas dataframe and keep NA values\n",
        "df = pd.read_csv('/content/tch-pca-2.csv.updated.csv',keep_default_na=False)\n",
        "print(df)"
      ]
    },
    {
      "cell_type": "markdown",
      "source": [
        "# Thống kê các label"
      ],
      "metadata": {
        "id": "UDRnjXPwmB7i"
      }
    },
    {
      "cell_type": "code",
      "source": [
        "import matplotlib.pyplot as plt\n",
        "value_counts = df['label'].value_counts().sort_values(ascending=False)\n",
        "print(value_counts)\n",
        "plt.bar(value_counts.index, value_counts.values)\n",
        "plt.show()"
      ],
      "metadata": {
        "colab": {
          "base_uri": "https://localhost:8080/",
          "height": 569
        },
        "id": "wplObHPEmG3c",
        "outputId": "6dfbcd58-0090-4c41-c49d-e454ed4c4b12"
      },
      "execution_count": 6,
      "outputs": [
        {
          "output_type": "stream",
          "name": "stdout",
          "text": [
            "NA    10995\n",
            "SO     2224\n",
            "JJ     2205\n",
            "LA     1716\n",
            "LL     1645\n",
            "RL     1641\n",
            "RA     1583\n",
            "Name: label, dtype: int64\n"
          ]
        },
        {
          "output_type": "display_data",
          "data": {
            "text/plain": [
              "<Figure size 640x480 with 1 Axes>"
            ],
            "image/png": "[encoded data removed]"
          },
          "metadata": {}
        }
      ]
    },
    {
      "cell_type": "markdown",
      "source": [
        "# Xử lý imbalance"
      ],
      "metadata": {
        "id": "eA7RRbKXoZ3I"
      }
    },
    {
      "cell_type": "code",
      "source": [
        "from imblearn.over_sampling import SMOTE\n",
        "from sklearn.model_selection import train_test_split\n",
        "\n",
        "X = df.drop('label', axis=1)\n",
        "y = pd.DataFrame(df['label'])\n",
        "X_train, X_test, y_train, y_test = train_test_split(X, y, test_size=0.2, random_state=15, stratify=y)\n",
        "smote = SMOTE()\n",
        "X_train_resampled, y_train_resampled = smote.fit_resample(X_train, y_train)\n",
        "print('Number of samples in each class before oversampling:')\n",
        "print(df['label'].value_counts())\n",
        "\n",
        "print('Number of samples in each class after oversampling:')\n",
        "print(y_train_resampled.value_counts())"
      ],
      "metadata": {
        "colab": {
          "base_uri": "https://localhost:8080/"
        },
        "id": "RZAHTKAJohIj",
        "outputId": "466d7af9-b20a-4415-95c7-5ac7e61b8f4b"
      },
      "execution_count": 8,
      "outputs": [
        {
          "output_type": "stream",
          "name": "stdout",
          "text": [
            "Number of samples in each class before oversampling:\n",
            "NA    10995\n",
            "SO     2224\n",
            "JJ     2205\n",
            "LA     1716\n",
            "LL     1645\n",
            "RL     1641\n",
            "RA     1583\n",
            "Name: label, dtype: int64\n",
            "Number of samples in each class after oversampling:\n",
            "label\n",
            "JJ       8796\n",
            "LA       8796\n",
            "LL       8796\n",
            "NA       8796\n",
            "RA       8796\n",
            "RL       8796\n",
            "SO       8796\n",
            "dtype: int64\n"
          ]
        }
      ]
    },
    {
      "cell_type": "code",
      "source": [
        "label_to_number = {\n",
        "    \"NA\": 0,\n",
        "    \"LA\": 1,\n",
        "    \"RA\": 2,\n",
        "    \"LL\": 3,\n",
        "    \"RL\": 4,\n",
        "    \"JJ\": 5,\n",
        "    \"SO\": 6\n",
        "}\n",
        "\n",
        "# Convert the labels to numbers.\n",
        "y_train['label'] = y_train['label'].apply(lambda x: label_to_number[x])\n",
        "y_test['label'] = y_test['label'].apply(lambda x: label_to_number[x])\n",
        "\n",
        "# Print the converted labels.\n",
        "print(y_train)"
      ],
      "metadata": {
        "colab": {
          "base_uri": "https://localhost:8080/"
        },
        "id": "beuKSvqVr95z",
        "outputId": "ad2ef729-3232-4f24-eef0-0da3e47ae3c8"
      },
      "execution_count": 9,
      "outputs": [
        {
          "output_type": "stream",
          "name": "stdout",
          "text": [
            "       label\n",
            "6042       0\n",
            "7804       1\n",
            "6920       5\n",
            "5358       5\n",
            "6744       0\n",
            "...      ...\n",
            "16065      6\n",
            "6385       0\n",
            "7450       0\n",
            "7452       0\n",
            "9923       6\n",
            "\n",
            "[17607 rows x 1 columns]\n"
          ]
        }
      ]
    },
    {
      "cell_type": "markdown",
      "source": [
        "# Apply model"
      ],
      "metadata": {
        "id": "RnA-Khd0rT8x"
      }
    },
    {
      "cell_type": "code",
      "source": [
        "import tensorflow as tf\n",
        "from tensorflow import keras\n",
        "from keras.models import Sequential\n",
        "from keras.layers import Dense, Conv1D, MaxPooling1D, Flatten\n",
        "import matplotlib.pyplot as plt\n",
        "import numpy as np\n",
        "\n",
        "\n",
        "#X_train = X_train.to_numpy()\n",
        "#X_test = X_test.to_numpy()\n",
        "\n",
        "X_train = X_train.reshape(-1, X_train.shape[1], 1)\n",
        "X_test = X_test.reshape(-1, X_test.shape[1], 1)\n",
        "\n",
        "model = Sequential()\n",
        "\n",
        "model.add(Conv1D(filters=32, kernel_size=3, activation='relu',padding='same', input_shape=(X_train.shape[1], 1)))\n",
        "model.add(MaxPooling1D(pool_size=2))\n",
        "\n",
        "model.add(Conv1D(filters=64, kernel_size=3, activation='relu',padding='same'))\n",
        "model.add(MaxPooling1D(pool_size=2,padding='same'))\n",
        "\n",
        "model.add(Flatten())\n",
        "model.add(Dense(128, activation='relu'))\n",
        "model.add(Dense(1, activation='softmax'))\n",
        "opt = keras.optimizers.Adam(learning_rate=0.01)\n",
        "\n",
        "model.compile(loss='categorical_crossentropy', optimizer=opt, metrics=['accuracy'])\n",
        "\n",
        "\n",
        "model.fit(X_train, y_train, epochs=20, batch_size=10)\n",
        "\n",
        "#loss, accuracy = model.evaluate(X_test, y_test)\n",
        "\n",
        "history = model.history\n",
        "\n",
        "loss = history.history['loss']\n",
        "accuracy = history.history['accuracy']\n",
        "fig, (ax1, ax2) = plt.subplots(2, 1)\n",
        "ax1.plot(np.arange(len(loss)), loss, label='Loss')\n",
        "ax2.plot(np.arange(len(accuracy)), accuracy, label='Accuracy')\n",
        "ax1.set_xlabel('Epoch')\n",
        "ax1.set_ylabel('Loss')\n",
        "ax1.set_title('Loss')\n",
        "ax2.set_xlabel('Epoch')\n",
        "ax2.set_ylabel('Accuracy')\n",
        "ax2.set_title('Accuracy')\n",
        "plt.tight_layout()\n",
        "\n",
        "\n",
        "plt.show()\n",
        "#print('Validation loss:', loss)\n",
        "#print('Validation accuracy:', accuracy)"
      ],
      "metadata": {
        "colab": {
          "base_uri": "https://localhost:8080/",
          "height": 1000
        },
        "id": "VKqo3fDqrWNj",
        "outputId": "9b6f6fb3-6d43-4d76-a318-f02dd225648a"
      },
      "execution_count": 42,
      "outputs": [
        {
          "output_type": "stream",
          "name": "stdout",
          "text": [
            "Epoch 1/20\n"
          ]
        },
        {
          "output_type": "stream",
          "name": "stderr",
          "text": [
            "/usr/local/lib/python3.10/dist-packages/tensorflow/python/util/dispatch.py:1176: SyntaxWarning: In loss categorical_crossentropy, expected y_pred.shape to be (batch_size, num_classes) with num_classes > 1. Received: y_pred.shape=(None, 1). Consider using 'binary_crossentropy' if you only have 2 classes.\n",
            "  return dispatch_target(*args, **kwargs)\n"
          ]
        },
        {
          "output_type": "stream",
          "name": "stdout",
          "text": [
            "1761/1761 [==============================] - 7s 3ms/step - loss: 0.0000e+00 - accuracy: 0.0780\n",
            "Epoch 2/20\n",
            "1761/1761 [==============================] - 3s 2ms/step - loss: 0.0000e+00 - accuracy: 0.0780\n",
            "Epoch 3/20\n",
            "1761/1761 [==============================] - 4s 2ms/step - loss: 0.0000e+00 - accuracy: 0.0780\n",
            "Epoch 4/20\n",
            "1761/1761 [==============================] - 4s 2ms/step - loss: 0.0000e+00 - accuracy: 0.0780\n",
            "Epoch 5/20\n",
            "1761/1761 [==============================] - 3s 2ms/step - loss: 0.0000e+00 - accuracy: 0.0780\n",
            "Epoch 6/20\n",
            "1761/1761 [==============================] - 3s 2ms/step - loss: 0.0000e+00 - accuracy: 0.0780\n",
            "Epoch 7/20\n",
            "1761/1761 [==============================] - 4s 2ms/step - loss: 0.0000e+00 - accuracy: 0.0780\n",
            "Epoch 8/20\n",
            "1761/1761 [==============================] - 4s 2ms/step - loss: 0.0000e+00 - accuracy: 0.0780\n",
            "Epoch 9/20\n",
            "1761/1761 [==============================] - 3s 2ms/step - loss: 0.0000e+00 - accuracy: 0.0780\n",
            "Epoch 10/20\n",
            "1761/1761 [==============================] - 3s 2ms/step - loss: 0.0000e+00 - accuracy: 0.0780\n",
            "Epoch 11/20\n",
            "1761/1761 [==============================] - 4s 2ms/step - loss: 0.0000e+00 - accuracy: 0.0780\n",
            "Epoch 12/20\n",
            "1761/1761 [==============================] - 4s 2ms/step - loss: 0.0000e+00 - accuracy: 0.0780\n",
            "Epoch 13/20\n",
            "1761/1761 [==============================] - 3s 2ms/step - loss: 0.0000e+00 - accuracy: 0.0780\n",
            "Epoch 14/20\n",
            "1761/1761 [==============================] - 3s 2ms/step - loss: 0.0000e+00 - accuracy: 0.0780\n",
            "Epoch 15/20\n",
            "1761/1761 [==============================] - 4s 2ms/step - loss: 0.0000e+00 - accuracy: 0.0780\n",
            "Epoch 16/20\n",
            "1761/1761 [==============================] - 4s 2ms/step - loss: 0.0000e+00 - accuracy: 0.0780\n",
            "Epoch 17/20\n",
            "1761/1761 [==============================] - 3s 2ms/step - loss: 0.0000e+00 - accuracy: 0.0780\n",
            "Epoch 18/20\n",
            "1761/1761 [==============================] - 3s 2ms/step - loss: 0.0000e+00 - accuracy: 0.0780\n",
            "Epoch 19/20\n",
            "1761/1761 [==============================] - 4s 2ms/step - loss: 0.0000e+00 - accuracy: 0.0780\n",
            "Epoch 20/20\n",
            "1761/1761 [==============================] - 4s 2ms/step - loss: 0.0000e+00 - accuracy: 0.0780\n"
          ]
        },
        {
          "output_type": "display_data",
          "data": {
            "text/plain": [
              "<Figure size 640x480 with 2 Axes>"
            ],
            "image/png": "[encoded data removed]"
          },
          "metadata": {}
        }
      ]
    }
  ],
  "metadata": {
    "colab": {
      "provenance": []
    },
    "kernelspec": {
      "display_name": "Python 3",
      "name": "python3"
    },
    "language_info": {
      "codemirror_mode": {
        "name": "ipython",
        "version": 3
      },
      "file_extension": ".py",
      "mimetype": "text/x-python",
      "name": "python",
      "nbconvert_exporter": "python",
      "pygments_lexer": "ipython3",
      "version": "3.10.7"
    }
  },
  "nbformat": 4,
  "nbformat_minor": 0
}