{
  "cells": [
    {
      "cell_type": "markdown",
      "metadata": {
        "id": "Qfr-5POhnBXJ"
      },
      "source": [
        "# New Section"
      ]
    },
    {
      "cell_type": "code",
      "execution_count": null,
      "metadata": {
        "id": "wiLYp5p6F79o"
      },
      "outputs": [],
      "source": [
        "import pandas as pd\n",
        "\n",
        "# read the large csv file into a pandas dataframe\n",
        "df = pd.read_csv('/content/drive/MyDrive/nckh/Test1.csv')\n",
        "column_name = \"num_hidden_tags\"\n",
        "current_condition = 3\n",
        "# get the unique values of the column you want to split the data by\n",
        "column_values = df[column_name].unique()\n",
        "\n",
        "# loop over the unique values of the column\n",
        "for value in column_values:\n",
        "    # create a dataframe for each unique value\n",
        "    value_df = df[df[column_name] == value]\n",
        "\n",
        "    # write the dataframe to a new csv file\n",
        "    value_df.to_csv(f'/content/drive/MyDrive/nckh/{column_name}_{value}.csv', index=False)"
      ]
    },
    {
      "cell_type": "code",
      "execution_count": null,
      "metadata": {
        "id": "qPTMzPWYlQ5i"
      },
      "outputs": [],
      "source": [
        "import pandas as pd\n",
        "\n",
        "# Read the large CSV file into a pandas DataFrame\n",
        "df = pd.read_csv('largefile.csv')\n",
        "\n",
        "# Get the unique values of the column you want to split the data by\n",
        "column_values = df[column_name].unique()\n",
        "\n",
        "# Loop over the unique values of the column\n",
        "for value in column_values:\n",
        "    # Create a DataFrame for each unique value\n",
        "    value_df = df[df[column_name] == value]\n",
        "\n",
        "    # Drop the label column (replace 'label_column_name' with the actual label column name)\n",
        "    value_df = value_df.drop('label_column_name', axis=1)\n",
        "\n",
        "    # Write the DataFrame to a new CSV file\n",
        "    value_df.to_csv(f'{column_name}_{value}.csv', index=False)"
      ]
    },
    {
      "cell_type": "code",
      "execution_count": null,
      "metadata": {
        "id": "MgTCEtpAl0Cp"
      },
      "outputs": [],
      "source": [
        "import pandas as pd\n",
        "\n",
        "# Read the large CSV file into a pandas DataFrame\n",
        "df = pd.read_csv('/content/drive/MyDrive/nckh/Test.csv')\n",
        "\n",
        "column_name = \"Nhan\"\n",
        "\n",
        "# Get the unique values of the column you want to split the data by\n",
        "column_values = df[column_name].unique()\n",
        "a = 0\n",
        "# Loop over the unique values of the column\n",
        "for value in column_values:\n",
        "    # Create a DataFrame for each unique value\n",
        "    value_df = df[df[column_name] == value]\n",
        "\n",
        "    # Drop the label column (replace 'label_column_name' with the actual label column name)\n",
        "    value_df = value_df.drop(column_name, axis=1)\n",
        "\n",
        "    # Drop a specific row (replace 'row_index_to_drop' with the index of the row to drop)\n",
        "   # value_df = value_df.drop(df.index[0])\n",
        "    # Reset the index after dropping rows\n",
        "    value_df.reset_index(drop=True, inplace=True)\n",
        "\n",
        "    # Write the DataFrame to a new CSV file\n",
        "    value_df.to_csv(f'/content/drive/MyDrive/nckh/dataset/{value}_{a}.npy', index=False)\n",
        "    a = a + 1"
      ]
    },
    {
      "cell_type": "markdown",
      "metadata": {
        "id": "3matA6o3zMYn"
      },
      "source": []
    },
    {
      "cell_type": "code",
      "execution_count": null,
      "metadata": {
        "id": "5ufQ_ForzMAI"
      },
      "outputs": [],
      "source": [
        "import csv\n",
        "import numpy as np\n",
        "\n",
        "def split_csv(input_file, output_prefix, lines_per_file):\n",
        "    with open(input_file, 'r') as file:\n",
        "        reader = csv.reader(file)\n",
        "        header = next(reader)\n",
        "        file_number = 1\n",
        "        line_count = 0\n",
        "        data = []\n",
        "\n",
        "        for row in reader:\n",
        "            if line_count % lines_per_file == 0:\n",
        "                output_file = f'{output_prefix}_{file_number}.csv'\n",
        "                writer = csv.writer(open(output_file, 'w', newline=''))\n",
        "                writer.writerow(header)\n",
        "                file_number += 1\n",
        "\n",
        "            writer.writerow(row)\n",
        "            line_count += 1\n",
        "            data.append(row)\n",
        "            np.save(f'{output_prefix}a{file_number}.npy', np.array(data))\n",
        "            loaded_array = np.load(f'{output_prefix}a{file_number}.npy')\n",
        "# Print the loaded array\n",
        "            print(\"Loaded Array:\")\n",
        "            print(loaded_array)\n",
        "            data = []\n",
        "\n",
        "split_csv('/content/drive/MyDrive/nckh/Test1.csv', '/content/drive/MyDrive/nckh/', 1)"
      ]
    },
    {
      "cell_type": "markdown",
      "metadata": {
        "id": "7_7s8Rm4zLtn"
      },
      "source": []
    },
    {
      "cell_type": "code",
      "execution_count": null,
      "metadata": {
        "id": "pSKX4fIV1EZx"
      },
      "outputs": [],
      "source": [
        "import numpy as np\n",
        "\n",
        "# Load the .npy file\n",
        "loaded1_array = np.load('/content/drive/MyDrive/nckh/dataset/Z_250.npy')\n",
        "check = 0\n",
        "for row in loaded1_array:\n",
        "    check += 1\n",
        "    print(row)\n",
        "# Print the loaded array\n",
        "#print(\"Loaded Array:\")\n",
        "#print(loaded1_array)\n",
        "print(check)"
      ]
    },
    {
      "cell_type": "markdown",
      "metadata": {
        "id": "MhPNqy897Ox8"
      },
      "source": [
        "huhu"
      ]
    },
    {
      "cell_type": "code",
      "execution_count": null,
      "metadata": {
        "id": "eMjlZQas7OLs"
      },
      "outputs": [],
      "source": [
        "import csv\n",
        "import os\n",
        "import numpy as np\n",
        "# label to check\n",
        "Label_0 =\"LA\"\n",
        "Label_1 =\"RA\"\n",
        "Label_2 =\"LL\"\n",
        "Label_3 =\"RL\"\n",
        "Label_4 =\"JJ\"\n",
        "Label_5 =\"SO\"\n",
        "# data to save\n",
        "data_0 = []\n",
        "data_1 = []\n",
        "data_2 = []\n",
        "data_3 = []\n",
        "data_4 = []\n",
        "data_5 = []\n",
        "def split_csv(input_file, output_prefix, lines_per_file, column_to_check_label,column_to_data):\n",
        "    with open(input_file, 'r') as file:\n",
        "        reader = csv.reader(file)\n",
        "        header = next(reader)\n",
        "        file_number = 0\n",
        "        data = []\n",
        "       # new_data = []\n",
        "      #  a = \"\"\n",
        "        for row in reader:\n",
        "\n",
        "            if row[column_to_check_label] != \"\" :\n",
        "             data.append(row)\n",
        "\n",
        "# Use array slicing to remove the element at the specified index\n",
        "             new_data = np.delete(data, 23)\n",
        "             np.save(f'{output_prefix}{row[column_to_check_label]}_{file_number}.npy', np.array(new_data))\n",
        "             loaded_array = np.load(f'{output_prefix}{row[column_to_check_label]}_{file_number}.npy')\n",
        "# Print the loaded array\n",
        "             print(\"Loaded Array:\")\n",
        "             print(loaded_array)\n",
        "            # data = []\n",
        "            # new_data = []\n",
        "             file_number += 1\n",
        "split_csv('/content/drive/MyDrive/nckh/Test1.csv', '/content/drive/MyDrive/nckh/dataset/', 1000, 23,25)"
      ]
    },
    {
      "cell_type": "code",
      "execution_count": null,
      "metadata": {
        "id": "S2_AXEIeYhlK"
      },
      "outputs": [],
      "source": [
        "import csv\n",
        "import os\n",
        "import numpy as np\n",
        "import ast\n",
        "# label to check\n",
        "Label_0 =\"LA\"\n",
        "Label_1 =\"RA\"\n",
        "Label_2 =\"LL\"\n",
        "Label_3 =\"RL\"\n",
        "Label_4 =\"JJ\"\n",
        "Label_5 =\"SO\"\n",
        "# data to save\n",
        "data_0 = []  # LA\n",
        "data_1 = []  # RA\n",
        "data_2 = []  # LL\n",
        "data_3 = []  # RL\n",
        "data_4 = []  # JJ\n",
        "data_5 = []  # SO\n",
        "\n",
        "\n",
        "#column_to_check_label input is index columns label ,  column_to_data is index columns data csi\n",
        "def split_csv(input_file, output_prefix, lines_per_file, column_to_check_label,column_to_data):\n",
        "    with open(input_file, 'r') as file:\n",
        "        reader = csv.reader(file)\n",
        "        header = next(reader)\n",
        "        file_number = 0\n",
        "        for row in reader:\n",
        "            data = row[column_to_data].replace(\" \",\",\")\n",
        "            new_data = np.array(ast.literal_eval(data))\n",
        "            if row[column_to_check_label] == \"LA\" :\n",
        "             data_0.append(new_data)\n",
        "            elif row[column_to_check_label] == \"RA\" :\n",
        "             data_1.append(new_data)\n",
        "            elif row[column_to_check_label] == \"LL\" :\n",
        "             data_2.append(new_data)\n",
        "            elif row[column_to_check_label] == \"RL\" :\n",
        "             data_3.append(new_data)\n",
        "            elif row[column_to_check_label] == \"JJ\" :\n",
        "             data_4.append(new_data)\n",
        "            elif row[column_to_check_label] == \"SO\" :\n",
        "             data_5.append(new_data)\n",
        "            else:\n",
        "              continue\n",
        "        np.save(f'{output_prefix}LA.npy', np.array(data_0))\n",
        "        #loaded_array = np.load(f'{output_prefix}LA_0.npy.npy')\n",
        "\n",
        "        np.save(f'{output_prefix}RA.npy', np.array(data_1))\n",
        "       # loaded_array = np.load(f'{output_prefix}RA_0.npy.npy')\n",
        "\n",
        "        np.save(f'{output_prefix}LL.npy', np.array(data_2))\n",
        "       # loaded_array = np.load(f'{output_prefix}LL_0.npy.npy')\n",
        "\n",
        "        np.save(f'{output_prefix}RL.npy', np.array(data_3))\n",
        "        #loaded_array = np.load(f'{output_prefix}RL_0.npy.npy')\n",
        "\n",
        "        np.save(f'{output_prefix}JJ.npy', np.array(data_4))\n",
        "        #loaded_array = np.load(f'{output_prefix}JJ_0.npy.npy')\n",
        "\n",
        "        np.save(f'{output_prefix}SO.npy', np.array(data_5))\n",
        "       # loaded_array = np.load(f'{output_prefix}SO_0.npy.npy')\n",
        "# Print the loaded array\n",
        "\n",
        "\n",
        "split_csv('/content/drive/MyDrive/nckh/Data_real.csv', '/content/drive/MyDrive/nckh/dataset/', 1000, 26,25)\n",
        "\n"
      ]
    },
    {
      "cell_type": "code",
      "execution_count": 2,
      "metadata": {
        "colab": {
          "base_uri": "https://localhost:8080/"
        },
        "id": "1YwUqum4fRGu",
        "outputId": "f310fb5c-e975-4bdb-e66a-bfb63cd6bfc0"
      },
      "outputs": [
        {
          "name": "stdout",
          "output_type": "stream",
          "text": [
            "[[0.1004854  0.10063012 0.10132267 ... 0.1197028  0.11791489 0.11630208]\n",
            " [0.11598082 0.11559933 0.1154063  ... 0.13491419 0.13325463 0.13160929]\n",
            " [0.10997242 0.10901058 0.10804889 ... 0.12047195 0.1197471  0.11905932]\n",
            " ...\n",
            " [0.0852905  0.08776144 0.09102294 ... 0.1218825  0.11452704 0.10783611]\n",
            " [0.09444717 0.09452899 0.09544712 ... 0.1298397  0.12653457 0.12344293]\n",
            " [0.10426391 0.10238034 0.10071354 ... 0.1332531  0.13140117 0.12958284]]\n"
          ]
        },
        {
          "data": {
            "text/plain": [
              "(500, 52)"
            ]
          },
          "execution_count": 2,
          "metadata": {},
          "output_type": "execute_result"
        }
      ],
      "source": [
        "import numpy as np\n",
        "\n",
        "# Load the .npy file\n",
        "loaded1_array = np.load('A_1.npy')\n",
        "check = 0\n",
        "\"\"\"\n",
        "for row in loaded1_array:\n",
        "    check += 1\n",
        "    print(row)\n",
        "# Print the loaded array\n",
        "\"\"\"\n",
        "#print(\"Loaded Array:\")\n",
        "print(loaded1_array)\n",
        "#print(check)\n",
        "loaded1_array.shape"
      ]
    },
    {
      "cell_type": "code",
      "execution_count": null,
      "metadata": {
        "colab": {
          "base_uri": "https://localhost:8080/"
        },
        "id": "9b4p_uGSyLM8",
        "outputId": "f7da6d3d-5b88-4563-fa6d-8697e0f3679d"
      },
      "outputs": [
        {
          "name": "stdout",
          "output_type": "stream",
          "text": [
            "[[110  96   6 ...   0   0   0]\n",
            " [110  96   6 ...   0   0   0]\n",
            " [110  96   6 ...   0   0   0]\n",
            " ...\n",
            " [110  96   6 ...   0   0   0]\n",
            " [110  96   6 ...   0   0   0]\n",
            " [110  96   6 ...   0   0   0]]\n"
          ]
        },
        {
          "data": {
            "text/plain": [
              "(2224, 128)"
            ]
          },
          "execution_count": 84,
          "metadata": {},
          "output_type": "execute_result"
        }
      ],
      "source": [
        "import numpy as np\n",
        "loaded1_array = np.load('/content/drive/MyDrive/nckh/dataset/SO_0.npy')\n",
        "print(loaded1_array)\n",
        "loaded1_array.shape"
      ]
    },
    {
      "cell_type": "code",
      "execution_count": null,
      "metadata": {
        "colab": {
          "base_uri": "https://localhost:8080/"
        },
        "id": "HnBQXQbJyLjT",
        "outputId": "169afe20-3da6-47b3-a13b-ab808c27704d"
      },
      "outputs": [
        {
          "name": "stdout",
          "output_type": "stream",
          "text": [
            "[[110  96   6 ...   0   0   0]\n",
            " [110  96   6 ...   0   0   0]\n",
            " [110  96   6 ...   0   0   0]\n",
            " ...\n",
            " [110  96   6 ...   0   0   0]\n",
            " [110  96   6 ...   0   0   0]\n",
            " [110  96   6 ...   0   0   0]]\n"
          ]
        },
        {
          "data": {
            "text/plain": [
              "(1583, 128)"
            ]
          },
          "execution_count": 85,
          "metadata": {},
          "output_type": "execute_result"
        }
      ],
      "source": [
        "import numpy as np\n",
        "loaded1_array = np.load('/content/drive/MyDrive/nckh/dataset/RA_0.npy')\n",
        "print(loaded1_array)\n",
        "loaded1_array.shape"
      ]
    },
    {
      "cell_type": "code",
      "execution_count": null,
      "metadata": {
        "colab": {
          "base_uri": "https://localhost:8080/"
        },
        "id": "XPeqDMckyLzC",
        "outputId": "ff3c626d-1cfa-4e35-b4ed-bd9813eb961b"
      },
      "outputs": [
        {
          "name": "stdout",
          "output_type": "stream",
          "text": [
            "[[110  96   6 ...   0   0   0]\n",
            " [110  96   6 ...   0   0   0]\n",
            " [110  96   6 ...   0   0   0]\n",
            " ...\n",
            " [110  96   6 ...   0   0   0]\n",
            " [110  96   6 ...   0   0   0]\n",
            " [110  96   6 ...   0   0   0]]\n"
          ]
        },
        {
          "data": {
            "text/plain": [
              "(1645, 128)"
            ]
          },
          "execution_count": 86,
          "metadata": {},
          "output_type": "execute_result"
        }
      ],
      "source": [
        "import numpy as np\n",
        "loaded1_array = np.load('/content/drive/MyDrive/nckh/dataset/LL_0.npy')\n",
        "print(loaded1_array)\n",
        "loaded1_array.shape"
      ]
    },
    {
      "cell_type": "code",
      "execution_count": null,
      "metadata": {
        "colab": {
          "base_uri": "https://localhost:8080/"
        },
        "id": "vs1EwsnDyMCr",
        "outputId": "6b8a13ac-142e-4040-ee4c-c0ca7a595bcf"
      },
      "outputs": [
        {
          "name": "stdout",
          "output_type": "stream",
          "text": [
            "[[110  96   6 ...   0   0   0]\n",
            " [110  96   6 ...   0   0   0]\n",
            " [110  96   6 ...   0   0   0]\n",
            " ...\n",
            " [110  96   6 ...   0   0   0]\n",
            " [110  96   6 ...   0   0   0]\n",
            " [110  96   6 ...   0   0   0]]\n"
          ]
        },
        {
          "data": {
            "text/plain": [
              "(1641, 128)"
            ]
          },
          "execution_count": 87,
          "metadata": {},
          "output_type": "execute_result"
        }
      ],
      "source": [
        "import numpy as np\n",
        "loaded1_array = np.load('/content/drive/MyDrive/nckh/dataset/RL_0.npy')\n",
        "print(loaded1_array)\n",
        "loaded1_array.shape"
      ]
    },
    {
      "cell_type": "code",
      "execution_count": null,
      "metadata": {
        "colab": {
          "base_uri": "https://localhost:8080/"
        },
        "id": "hl_-OSgByMS7",
        "outputId": "0eac008b-02f4-4fb1-a14f-f798399f7370"
      },
      "outputs": [
        {
          "name": "stdout",
          "output_type": "stream",
          "text": [
            "[[110  96   6 ...   0   0   0]\n",
            " [110  96   6 ...   0   0   0]\n",
            " [110  96   6 ...   0   0   0]\n",
            " ...\n",
            " [110  96   6 ...   0   0   0]\n",
            " [110  96   6 ...   0   0   0]\n",
            " [110  96   6 ...   0   0   0]]\n"
          ]
        },
        {
          "data": {
            "text/plain": [
              "(2205, 128)"
            ]
          },
          "execution_count": 88,
          "metadata": {},
          "output_type": "execute_result"
        }
      ],
      "source": [
        "import numpy as np\n",
        "loaded1_array = np.load('/content/drive/MyDrive/nckh/dataset/JJ_0.npy')\n",
        "check = 0\n",
        "print(loaded1_array)\n",
        "loaded1_array.shape"
      ]
    },
    {
      "cell_type": "markdown",
      "metadata": {
        "id": "wBt0q0bv7PsE"
      },
      "source": [
        "huhu"
      ]
    },
    {
      "cell_type": "code",
      "execution_count": null,
      "metadata": {
        "id": "LHqjZs5E26l7"
      },
      "outputs": [],
      "source": [
        "import numpy as np\n",
        "import os\n",
        "\n",
        "# Đọc mảng từ tệp .npy\n",
        "input_file = '/content/drive/MyDrive/nckh/dataset/LA.npy'\n",
        "output_file = '/content/drive/MyDrive/nckh/dataset/'\n",
        "arr = np.load(input_file)\n",
        "\n",
        "num_rows_per_subarray = 500\n",
        "num_subarrays = len(arr) // num_rows_per_subarray\n",
        "\n",
        "subarrays = []\n",
        "\n",
        "# Trích xuất tên tệp đầu vào (loại bỏ phần mở rộng .npy)\n",
        "input_filename_without_extension = os.path.splitext(input_file)[0]\n",
        "\n",
        "for i in range(num_subarrays):\n",
        "    start_idx = i * num_rows_per_subarray\n",
        "    end_idx = (i + 1) * num_rows_per_subarray\n",
        "    subarray = arr[start_idx:end_idx]\n",
        "    # Đặt tên cho tệp con bằng tên tệp đầu vào kèm theo số thứ tự\n",
        "    filename = f\"{input_filename_without_extension}_{i}.npy\"\n",
        "    np.save(filename, subarray)\n"
      ]
    },
    {
      "cell_type": "code",
      "execution_count": null,
      "metadata": {
        "colab": {
          "base_uri": "https://localhost:8080/"
        },
        "id": "yDnHFQeQ2TGr",
        "outputId": "3163d7e7-abba-4ef4-ef02-8f1420903b5a"
      },
      "outputs": [
        {
          "name": "stdout",
          "output_type": "stream",
          "text": [
            "Mảng con 1:\n",
            "[[110  96   6 ...   0   0   0]\n",
            " [110  96   6 ...   0   0   0]\n",
            " [110  96   6 ...   0   0   0]\n",
            " ...\n",
            " [110  96   6 ...   0   0   0]\n",
            " [110  96   6 ...   0   0   0]\n",
            " [110  96   6 ...   0   0   0]]\n",
            "Mảng con 2:\n",
            "[[110  96   6 ...   0   0   0]\n",
            " [110  96   6 ...   0   0   0]\n",
            " [110  96   6 ...   0   0   0]\n",
            " ...\n",
            " [110  96   6 ...   0   0   0]\n",
            " [110  96   6 ...   0   0   0]\n",
            " [110  96   6 ...   0   0   0]]\n",
            "Mảng con 3:\n",
            "[[110  96   6 ...   0   0   0]\n",
            " [110  96   6 ...   0   0   0]\n",
            " [110  96   6 ...   0   0   0]\n",
            " ...\n",
            " [110  96   6 ...   0   0   0]\n",
            " [110  96   6 ...   0   0   0]\n",
            " [110  96   6 ...   0   0   0]]\n",
            "Mảng con 4:\n",
            "[[110  96   6 ...   0   0   0]\n",
            " [110  96   6 ...   0   0   0]\n",
            " [110  96   6 ...   0   0   0]\n",
            " ...\n",
            " [110  96   6 ...   0   0   0]\n",
            " [110  96   6 ...   0   0   0]\n",
            " [110  96   6 ...   0   0   0]]\n"
          ]
        }
      ],
      "source": [
        "import numpy as np  # Đối với mảng lớn hơn, nên sử dụng numpy cho hiệu suất tốt hơn\n",
        "\n",
        "# Tạo mảng 2 chiều có số dòng là 15 (ví dụ)\n",
        "\n",
        "arr = np.load('/content/drive/MyDrive/nckh/dataset/JJ.npy')\n",
        "\n",
        "num_rows_per_subarray = 500\n",
        "num_subarrays = len(arr) // num_rows_per_subarray\n",
        "\n",
        "subarrays = []\n",
        "\n",
        "for i in range(num_subarrays):\n",
        "    start_idx = i * num_rows_per_subarray\n",
        "    end_idx = (i + 1) * num_rows_per_subarray\n",
        "    subarray = arr[start_idx:end_idx]\n",
        "    subarrays.append(subarray)\n",
        "\n",
        "# In kết quả\n",
        "for i, subarray in enumerate(subarrays):\n",
        "    print(f\"Mảng con {i + 1}:\\n{subarray}\")"
      ]
    },
    {
      "cell_type": "code",
      "execution_count": null,
      "metadata": {
        "colab": {
          "base_uri": "https://localhost:8080/"
        },
        "id": "XInwY0tXt0-D",
        "outputId": "4c6a1b66-ec09-459e-ebce-ed505b2855b9"
      },
      "outputs": [
        {
          "name": "stdout",
          "output_type": "stream",
          "text": [
            "[10 20 30]\n"
          ]
        }
      ],
      "source": [
        "import numpy as np\n",
        "import ast\n",
        "\n",
        "string = '[10 20 30]'\n",
        "string = string.replace(\" \",\",\")\n",
        "array = np.array(ast.literal_eval(string))\n",
        "print(array)"
      ]
    },
    {
      "cell_type": "code",
      "execution_count": null,
      "metadata": {
        "colab": {
          "base_uri": "https://localhost:8080/"
        },
        "id": "QqtnsBTXIDyw",
        "outputId": "b1d33a93-7025-4d33-fa92-108a4ac33f36"
      },
      "outputs": [
        {
          "name": "stdout",
          "output_type": "stream",
          "text": [
            "[['type', 'role', 'mac', 'rssi', 'rate', 'sig_mode', 'mcs', 'bandwidth', 'smoothing', 'not_sounding', 'aggregation', 'stbc', 'fec_coding', 'sgi', 'noise_floor', 'ampdu_cnt', 'channel', 'secondary_channel', 'local_timestamp', 'ant', 'sig_len', 'rx_state', 'real_time_set', 'real_timestamp', 'len', 'CSI_DATA', 'Nhan']]\n",
            "[['CSI_DATA', 'STA', 'C8:F0:9E:F2:A4:F5', '-62', '11', '0', '0', '0', '0', '0', '0', '0', '0', '0', '-98', '0', '6', '1', '35052', '0', '34', '0', '0', '0.246789', '128', '[34 32 2 0 0 0 0 0 0 0 0 0 -11 22 -13 22 -11 21 -16 24 -18 22 -21 20 -19 19 -20 15 -19 18 -18 14 -19 15 -16 14 -19 8 -15 13 -15 16 -18 25 -9 13 -14 15 0 28 -13 17 -9 16 -18 28 -7 15 -9 20 -11 13 -6 11 0 0 -7 20 -20 31 -2 21 0 19 -15 5 -2 18 -5 22 6 8 3 26 -5 20 -4 29 -4 19 -3 23 -4 23 -2 19 -2 21 -2 21 -1 20 -3 19 -2 16 1 18 0 17 -2 14 2 17 1 13 2 12 0 0 0 0 0 0 0 0 0 0 ]', ''], ['CSI_DATA', 'STA', 'C8:F0:9E:F2:A4:F5', '-62', '11', '0', '0', '0', '0', '0', '0', '0', '0', '0', '-98', '0', '6', '1', '73185', '0', '34', '0', '0', '0.284439', '128', '[34 32 2 0 0 0 0 0 0 0 0 0 26 -12 26 -10 28 -12 29 -10 31 -7 28 -5 30 -3 27 -1 28 -3 25 -1 24 0 24 0 28 2 21 -2 18 0 28 0 16 -2 21 -9 16 1 17 -1 19 -8 13 -17 19 -9 15 -6 17 -2 21 -8 0 0 18 -17 27 -2 16 -16 23 -17 17 -27 16 -25 21 -13 22 -14 18 -15 17 -17 24 -27 18 -19 15 -18 14 -15 12 -22 16 -17 15 -17 15 -14 13 -16 11 -14 13 -14 10 -15 8 -14 8 -16 7 -14 6 -13 0 0 0 0 0 0 0 0 0 0 ]', ''], ['CSI_DATA', 'STA', 'C8:F0:9E:F2:A4:F5', '-63', '11', '0', '0', '0', '0', '0', '0', '0', '0', '0', '-98', '0', '6', '1', '75050', '0', '131', '0', '0', '0.291214', '128', '[-125 48 8 0 0 0 0 0 0 0 0 0 10 23 6 24 8 26 5 25 3 26 4 25 0 27 -3 24 1 20 -1 24 -2 22 -2 21 -5 23 -2 20 -1 18 3 18 2 19 5 17 1 17 6 17 7 16 8 19 13 16 9 22 13 17 8 16 0 0 10 14 12 14 9 14 15 18 12 14 12 14 13 14 11 20 14 9 14 9 13 19 10 17 10 14 13 15 15 15 14 12 15 15 13 12 13 13 13 11 11 11 12 10 12 8 12 9 10 5 10 6 0 0 0 0 0 0 0 0 0 0 ]', ''], ['CSI_DATA', 'STA', 'C8:F0:9E:F2:A4:F5', '-65', '11', '0', '0', '0', '0', '0', '0', '0', '0', '0', '-98', '0', '6', '1', '4078562', '0', '30', '0', '0', '4.29', '128', '[30 -32 1 0 0 0 0 0 0 0 0 0 -31 0 -33 -3 -35 -4 -35 -7 -35 -10 -31 -13 -31 -16 -26 -16 -28 -17 -27 -16 -27 -18 -27 -15 -24 -16 -23 -15 -21 -11 -23 -10 -23 -10 -23 -8 -21 -12 -18 -11 -16 -8 -22 -12 -18 -5 -22 -8 -19 -5 -17 1 0 0 -20 -1 -26 2 -23 1 -21 2 -25 2 -22 7 -23 -1 -24 3 -22 6 -22 6 -23 7 -20 5 -22 5 -20 5 -18 6 -17 6 -17 5 -15 5 -15 3 -12 4 -11 5 -10 5 -8 8 -7 9 -5 10 -5 11 0 0 0 0 0 0 0 0 0 0 ]', ''], ['CSI_DATA', 'STA', 'C8:F0:9E:F2:A4:F5', '-62', '11', '0', '0', '0', '0', '0', '0', '0', '0', '0', '-98', '0', '6', '1', '6602584', '0', '131', '0', '0', '6.81512', '128', '[-125 48 8 0 0 0 0 0 0 0 0 0 2 30 -1 31 -4 30 -3 33 -5 31 -7 29 -5 29 -9 27 -9 29 -9 27 -7 27 -7 28 -8 24 -6 23 -6 22 -4 27 -8 21 -5 18 -7 21 -7 17 -7 21 -1 21 -4 17 3 15 4 15 1 14 0 0 7 17 6 22 9 21 12 18 7 12 10 16 7 21 5 14 8 11 7 17 7 19 16 13 13 16 7 16 9 13 8 15 11 17 11 11 8 11 8 10 7 11 9 7 8 7 10 6 9 5 8 5 0 0 0 0 0 0 0 0 0 0 ]', 'A'], ['CSI_DATA', 'STA', 'C8:F0:9E:F2:A4:F5', '-66', '11', '0', '0', '0', '0', '0', '0', '0', '0', '0', '-98', '0', '6', '1', '6625895', '0', '135', '0', '0', '6.83806', '128', '[-121 112 8 0 0 0 0 0 0 0 0 0 82 15 73 20 84 13 95 31 94 9 99 33 96 50 71 53 101 53 65 58 85 47 85 53 63 49 60 33 53 46 73 16 60 26 58 14 36 18 46 31 40 17 45 17 50 23 61 5 76 -11 63 -6 0 0 61 -27 50 -31 62 -31 52 -11 30 -34 61 -28 57 -31 44 -31 36 -10 41 -23 50 -33 57 -38 45 -50 56 -26 46 -20 65 -44 39 -35 38 -35 44 -26 41 -42 37 -26 31 -32 35 -28 31 -32 16 -33 19 -30 0 0 0 0 0 0 0 0 0 0 ]', 'B'], ['CSI_DATA', 'STA', 'C8:F0:9E:F2:A4:F5', '-61', '11', '0', '0', '0', '0', '0', '0', '0', '0', '0', '-98', '0', '6', '1', '6823217', '0', '239', '0', '0', '7.03571', '128', '[-17 -16 14 0 0 0 0 0 0 0 0 0 5 26 5 27 2 26 0 26 0 27 -1 27 -2 27 -4 24 -4 25 -3 23 -4 26 -4 24 -3 22 -2 22 -3 19 -4 21 -4 20 -2 19 -3 17 -1 18 -1 18 2 16 1 15 3 16 4 16 5 17 0 0 6 15 7 17 8 18 8 20 7 15 8 17 8 16 8 16 9 17 8 16 9 16 8 16 10 16 8 16 8 16 8 17 7 14 9 14 8 14 8 13 8 12 7 12 8 10 7 10 9 8 8 9 0 0 0 0 0 0 0 0 0 0 ]', 'C'], ['CSI_DATA', 'STA', 'C8:F0:9E:F2:A4:F5', '-68', '11', '0', '0', '0', '0', '0', '0', '0', '0', '0', '-94', '0', '6', '1', '8092173', '0', '37', '0', '0', '8.30476', '128', '[37 80 2 0 0 0 0 0 0 0 0 0 -27 8 -28 6 -29 7 -31 5 -30 4 -30 2 -29 1 -29 0 -27 0 -27 -1 -27 0 -26 1 -24 0 -24 0 -23 -2 -21 0 -23 2 -15 3 -19 2 -15 4 -16 2 -13 4 -18 7 -16 6 -16 9 -15 9 0 0 -10 11 -15 16 -14 10 -11 18 -13 11 -11 12 -12 13 -11 14 -10 18 -12 15 -13 18 -9 16 -11 16 -11 15 -10 14 -11 15 -10 14 -10 13 -10 12 -9 11 -8 10 -7 8 -4 9 -4 8 -3 7 -1 6 0 0 0 0 0 0 0 0 0 0 ]', 'D'], ['CSI_DATA', 'STA', 'C8:F0:9E:F2:A4:F5', '-71', '11', '0', '0', '0', '0', '0', '0', '0', '0', '0', '-94', '0', '6', '1', '8169797', '0', '82', '0', '0', '8.3821', '128', '[82 -96 4 0 0 0 0 0 0 0 0 0 -35 63 -36 66 -41 69 -60 78 -42 73 -30 72 -62 83 -53 62 -73 73 -62 64 -77 69 -78 54 -82 56 -52 49 -38 54 -74 68 -56 43 -34 44 -36 53 -42 41 -27 49 -33 54 -22 41 -27 63 -30 60 -36 63 0 0 -16 76 -2 68 -11 68 -11 76 0 73 -4 59 0 70 7 63 10 88 7 77 -3 82 7 77 13 74 15 79 3 73 9 75 10 75 10 68 9 60 9 63 13 59 19 55 5 54 8 50 16 39 18 43 0 0 0 0 0 0 0 0 0 0 ]', 'E']]\n"
          ]
        }
      ],
      "source": [
        "import csv\n",
        "\n",
        "# Open the CSV file for reading\n",
        "with open('/content/drive/MyDrive/nckh/Test.csv', 'r') as csvfile:\n",
        "    reader = csv.reader(csvfile)\n",
        "\n",
        "    # Define a condition for splitting (e.g., split when a certain column value changes)\n",
        "    current_condition = None\n",
        "    split_data = []\n",
        "\n",
        "    for row in reader:\n",
        "        # Assuming you want to split when the value in the first column changes\n",
        "        condition_value = row[0]\n",
        "\n",
        "        if condition_value != current_condition:\n",
        "            if split_data:\n",
        "                # Process or save the split_data as needed\n",
        "                print(split_data)\n",
        "\n",
        "            # Reset split_data and update the current condition\n",
        "            split_data = [row]\n",
        "            current_condition = condition_value\n",
        "        else:\n",
        "            split_data.append(row)\n",
        "\n",
        "    # Process or save the last split_data, if any\n",
        "    if split_data:\n",
        "        print(split_data)"
      ]
    },
    {
      "cell_type": "markdown",
      "metadata": {
        "id": "dpoguvSo1fIe"
      },
      "source": [
        "# New Section"
      ]
    },
    {
      "cell_type": "code",
      "execution_count": null,
      "metadata": {
        "colab": {
          "base_uri": "https://localhost:8080/"
        },
        "id": "7iZ735_v1hQF",
        "outputId": "dad39519-ef52-4e90-809d-7556714291c2"
      },
      "outputs": [
        {
          "data": {
            "text/plain": [
              "array([[0, 1],\n",
              "       [2, 3],\n",
              "       [4, 5],\n",
              "       [6, 7],\n",
              "       [8, 9]])"
            ]
          },
          "execution_count": 55,
          "metadata": {},
          "output_type": "execute_result"
        }
      ],
      "source": [
        "import numpy as np\n",
        "from sklearn.model_selection import train_test_split\n",
        "X, y = np.arange(10).reshape((5, 2)), range(5)\n",
        "X\n"
      ]
    },
    {
      "cell_type": "code",
      "execution_count": null,
      "metadata": {
        "colab": {
          "base_uri": "https://localhost:8080/"
        },
        "id": "RONahCv-BM28",
        "outputId": "228f9e4e-46dd-4b49-c993-d5eebe75ba7d"
      },
      "outputs": [
        {
          "data": {
            "text/plain": [
              "array([[0, 1, 7],\n",
              "       [2, 3, 6],\n",
              "       [4, 5, 6],\n",
              "       [6, 7, 6],\n",
              "       [8, 9, 8]])"
            ]
          },
          "execution_count": 87,
          "metadata": {},
          "output_type": "execute_result"
        }
      ],
      "source": [
        "import numpy as np\n",
        "\n",
        "X = np.array([[0, 1,7],\n",
        "              [2, 3,6],\n",
        "              [4, 5,6],\n",
        "              [6, 7,6],\n",
        "              [8, 9,8]])\n",
        "\n",
        "X\n",
        "\n"
      ]
    },
    {
      "cell_type": "code",
      "execution_count": null,
      "metadata": {
        "id": "S_xHpyNQ9TFF"
      },
      "outputs": [],
      "source": [
        "a = np.array([[0,0,2,-10,0,-9,-2,-8,-3,-7,-5,-7,-6,-7,-8,-7,-8,-7,-10,-6,-10,-7,-11,-7,-11,-7,-11,-6,-11,-6,-10,-5,-10,-5,-9,-4,-8,-3,-8,-1,-8,0,-9,2,-9,2,-10,3,-10,3,-11,3,-11,3,0,0,0,0,0,0,0,0,0,0,0,0,0,0,0,0,0,0,0,0,0,0,2,-1,3,-2,4,-3,6,-4,8,-4,11,-4,12,-4,13,-2,13,0,13,2,11,3,10,3,7,2,5,1,4,0,2,-2,1,-4,0,-7,0,-9,0,-12,0,-13,2,-14,2,-15,4,-14,4,-14,4,-13]\n",
        "      ,[0,0,6,-7,5,-7,3,-7,1,-8,0,-8,-2,-9,-3,-10,-4,-10,-5,-11,-6,-11,-5,-11,-6,-11,-6,-11,-6,-11,-6,-10,-5,-9,-5,-8,-6,-7,-6,-6,-7,-4,-8,-4,-9,-3,-9,-3,-10,-3,-11,-4,-11,-4,0,0,0,0,0,0,0,0,0,0,0,0,0,0,0,0,0,0,0,0,0,0,2,0,3,0,5,-1,7,0,9,0,10,1,12,3,12,5,12,7,11,8,8,8,6,7,5,6,4,4,3,2,3,-1,3,-3,3,-6,4,-8,6,-9,7,-11,9,-12,9,-11,10,-10,10,-9,10,-9]\n",
        "      ,[0,0,8,4,8,2,7,1,7,-1,7,-3,7,-4,7,-6,7,-7,7,-8,8,-9,8,-9,8,-10,8,-9,7,-8,7,-9,6,-8,5,-8,3,-7,2,-8,1,-8,0,-9,-1,-9,-1,-10,-1,-10,-1,-11,-1,-12,0,0,0,0,0,0,0,0,0,0,0,0,0,0,0,0,0,0,0,0,0,0,-1,2,0,3,1,5,2,6,2,9,1,10,0,12,-1,13,-3,14,-5,13,-6,10,-5,9,-5,7,-3,5,-1,4,1,2,3,2,6,1,9,1,11,2,12,3,13,4,13,5,13,7,11,7,11,7]])\n"
      ]
    },
    {
      "cell_type": "code",
      "execution_count": null,
      "metadata": {
        "colab": {
          "base_uri": "https://localhost:8080/"
        },
        "id": "mk9V1lGy-DhM",
        "outputId": "99ff91e4-71f0-4e72-9e07-b224345d8195"
      },
      "outputs": [
        {
          "data": {
            "text/plain": [
              "(3, 128)"
            ]
          },
          "execution_count": 65,
          "metadata": {},
          "output_type": "execute_result"
        }
      ],
      "source": [
        "a.shape\n"
      ]
    },
    {
      "cell_type": "code",
      "execution_count": null,
      "metadata": {
        "id": "kChadH1I9kkk"
      },
      "outputs": [],
      "source": [
        "b = [0,1,0]"
      ]
    },
    {
      "cell_type": "code",
      "execution_count": null,
      "metadata": {
        "colab": {
          "base_uri": "https://localhost:8080/"
        },
        "id": "S4E7DRbI9soE",
        "outputId": "db3fe89e-0f9d-4336-ca1c-15459420b6aa"
      },
      "outputs": [
        {
          "data": {
            "text/plain": [
              "[0, 1, 0]"
            ]
          },
          "execution_count": 93,
          "metadata": {},
          "output_type": "execute_result"
        }
      ],
      "source": [
        "list(b)"
      ]
    },
    {
      "cell_type": "code",
      "execution_count": null,
      "metadata": {
        "colab": {
          "base_uri": "https://localhost:8080/"
        },
        "id": "Mqj85Gfv15f0",
        "outputId": "f97bbc86-e16f-4386-fd41-c83dd31c2ad9"
      },
      "outputs": [
        {
          "data": {
            "text/plain": [
              "[0, 1, 2, 3, 4]"
            ]
          },
          "execution_count": 40,
          "metadata": {},
          "output_type": "execute_result"
        }
      ],
      "source": [
        "list(y)"
      ]
    },
    {
      "cell_type": "code",
      "execution_count": null,
      "metadata": {
        "colab": {
          "base_uri": "https://localhost:8080/"
        },
        "id": "Jp6PmTRe2tys",
        "outputId": "679a4cd8-c334-453b-dc0e-4d43eb66f06c"
      },
      "outputs": [
        {
          "data": {
            "text/plain": [
              "range(0, 5)"
            ]
          },
          "execution_count": 41,
          "metadata": {},
          "output_type": "execute_result"
        }
      ],
      "source": [
        "y"
      ]
    },
    {
      "cell_type": "code",
      "execution_count": null,
      "metadata": {
        "colab": {
          "base_uri": "https://localhost:8080/"
        },
        "id": "MGmWfyJW2fK_",
        "outputId": "f3108087-a2f0-44dc-b10f-41f97c56d1a6"
      },
      "outputs": [
        {
          "data": {
            "text/plain": [
              "array([[2, 3],\n",
              "       [8, 9]])"
            ]
          },
          "execution_count": 33,
          "metadata": {},
          "output_type": "execute_result"
        }
      ],
      "source": [
        "X_test"
      ]
    },
    {
      "cell_type": "code",
      "execution_count": null,
      "metadata": {
        "colab": {
          "base_uri": "https://localhost:8080/"
        },
        "id": "02yBWhZc2kW8",
        "outputId": "fe715c09-86e0-43c6-db41-d2959cdaffcc"
      },
      "outputs": [
        {
          "data": {
            "text/plain": [
              "[2, 0, 3]"
            ]
          },
          "execution_count": 34,
          "metadata": {},
          "output_type": "execute_result"
        }
      ],
      "source": [
        "y_train"
      ]
    },
    {
      "cell_type": "code",
      "execution_count": null,
      "metadata": {
        "colab": {
          "base_uri": "https://localhost:8080/"
        },
        "id": "579pr5ec50Oc",
        "outputId": "bc09b2d9-7d67-4ec3-f9f8-47d003148d11"
      },
      "outputs": [
        {
          "name": "stdout",
          "output_type": "stream",
          "text": [
            "a_1\n",
            "b_2\n",
            "a_2\n"
          ]
        }
      ],
      "source": [
        "all_labels =[]\n",
        "filenames_p = [\"a_1\",\"b_2\",\"a_2\"]\n",
        "for f in filenames_p:\n",
        "    print(f)\n",
        "    all_labels.append(f.split('_')[0])"
      ]
    },
    {
      "cell_type": "code",
      "execution_count": null,
      "metadata": {
        "colab": {
          "base_uri": "https://localhost:8080/"
        },
        "id": "DPL89MhN6HDr",
        "outputId": "93c2f0e7-5bb0-4f8e-999d-897a88340dd3"
      },
      "outputs": [
        {
          "data": {
            "text/plain": [
              "['a', 'b', 'a']"
            ]
          },
          "execution_count": 57,
          "metadata": {},
          "output_type": "execute_result"
        }
      ],
      "source": [
        "all_labels\n"
      ]
    },
    {
      "cell_type": "code",
      "execution_count": null,
      "metadata": {
        "colab": {
          "base_uri": "https://localhost:8080/"
        },
        "id": "-2C3UlS76dV-",
        "outputId": "da433d0e-c28b-4873-a28c-d5c3cc193a63"
      },
      "outputs": [
        {
          "data": {
            "text/plain": [
              "array(['a', 'b', 'a'], dtype='<U1')"
            ]
          },
          "execution_count": 58,
          "metadata": {},
          "output_type": "execute_result"
        }
      ],
      "source": [
        "label_in = np.array(all_labels)\n",
        "label_in"
      ]
    },
    {
      "cell_type": "code",
      "execution_count": null,
      "metadata": {
        "id": "pFJYxlP66oB0"
      },
      "outputs": [],
      "source": [
        "label_in[label_in == 'a'] = 0\n",
        "label_in[label_in == 'b'] = 1"
      ]
    },
    {
      "cell_type": "code",
      "execution_count": null,
      "metadata": {
        "colab": {
          "base_uri": "https://localhost:8080/"
        },
        "id": "fTr0EWaI6p7k",
        "outputId": "40080b70-ad11-48d5-f4d9-96374c01159a"
      },
      "outputs": [
        {
          "data": {
            "text/plain": [
              "array(['0', '1', '0'], dtype='<U1')"
            ]
          },
          "execution_count": 60,
          "metadata": {},
          "output_type": "execute_result"
        }
      ],
      "source": [
        "label_in"
      ]
    },
    {
      "cell_type": "code",
      "execution_count": null,
      "metadata": {
        "colab": {
          "base_uri": "https://localhost:8080/"
        },
        "id": "aPGFB1957UqM",
        "outputId": "c086029e-dbee-4345-eb42-01c5bbe49db2"
      },
      "outputs": [
        {
          "data": {
            "text/plain": [
              "array([0., 1., 0.])"
            ]
          },
          "execution_count": 61,
          "metadata": {},
          "output_type": "execute_result"
        }
      ],
      "source": [
        "label_in = label_in.astype(np.float64)\n",
        "label_in"
      ]
    },
    {
      "cell_type": "code",
      "execution_count": null,
      "metadata": {
        "colab": {
          "base_uri": "https://localhost:8080/"
        },
        "id": "QyGXUV9V2ETM",
        "outputId": "73705279-88ba-4bd9-c60a-b63885748e6a"
      },
      "outputs": [
        {
          "data": {
            "text/plain": [
              "(1, 128)"
            ]
          },
          "execution_count": 66,
          "metadata": {},
          "output_type": "execute_result"
        }
      ],
      "source": [
        "X_train, X_test, y_train, y_test = train_test_split(a, label_in, test_size=0.5, random_state=42)\n",
        "X_train.shape"
      ]
    },
    {
      "cell_type": "code",
      "execution_count": null,
      "metadata": {
        "colab": {
          "base_uri": "https://localhost:8080/"
        },
        "id": "Sy6IQ3z64G3c",
        "outputId": "4e08a2a6-febe-404a-dfef-aa48bdec553d"
      },
      "outputs": [
        {
          "name": "stdout",
          "output_type": "stream",
          "text": [
            "(1, 128), (1,)\n",
            "(2, 128), (2,)\n"
          ]
        }
      ],
      "source": [
        "print(f'{X_train.shape}, {y_train.shape}')\n",
        "print(f'{X_test.shape}, {y_test.shape}')"
      ]
    },
    {
      "cell_type": "code",
      "execution_count": null,
      "metadata": {
        "colab": {
          "base_uri": "https://localhost:8080/"
        },
        "id": "SwZJMU9ZDe_s",
        "outputId": "c41b4109-78b5-4ba8-855d-23bd81f5e85b"
      },
      "outputs": [
        {
          "name": "stdout",
          "output_type": "stream",
          "text": [
            "3.10.12 (main, Jun 11 2023, 05:26:28) [GCC 11.4.0]\n",
            "2.13.0\n"
          ]
        }
      ],
      "source": [
        "import os\n",
        "from six.moves import urllib\n",
        "import tempfile\n",
        "import glob\n",
        "\n",
        "import numpy as np\n",
        "import pandas as pd\n",
        "import tensorflow as tf\n",
        "\n",
        "# Examine software versions\n",
        "print(__import__('sys').version)\n",
        "print(tf.__version__)\n"
      ]
    },
    {
      "cell_type": "code",
      "execution_count": null,
      "metadata": {
        "colab": {
          "base_uri": "https://localhost:8080/"
        },
        "id": "ivUlv9hXDmnF",
        "outputId": "00bcacf6-386e-47a7-9e5a-41a641fc50b5"
      },
      "outputs": [
        {
          "name": "stdout",
          "output_type": "stream",
          "text": [
            "Num GPUs Available:  0\n"
          ]
        }
      ],
      "source": [
        "# Utilizing GPU for training\n",
        "physical_devices = tf.config.experimental.list_physical_devices('GPU')\n",
        "print(\"Num GPUs Available: \", len(physical_devices))\n",
        "if (len(physical_devices) > 0):\n",
        "    tf.config.experimental.set_memory_growth(physical_devices[0], True)"
      ]
    },
    {
      "cell_type": "code",
      "execution_count": null,
      "metadata": {
        "id": "deoQjvLFCvR1"
      },
      "outputs": [],
      "source": [
        "%matplotlib inline\n",
        "from sklearn.metrics import confusion_matrix, accuracy_score\n",
        "import itertools\n",
        "import matplotlib.pyplot as plt"
      ]
    },
    {
      "cell_type": "code",
      "execution_count": null,
      "metadata": {
        "id": "fxLjB7ZhCysV"
      },
      "outputs": [],
      "source": [
        "def plot_confusion_matrix(cm, classes,\n",
        "                        normalize=False,\n",
        "                        title='Confusion matrix',\n",
        "                        cmap=plt.cm.Blues):\n",
        "    \"\"\"\n",
        "    This function prints and plots the confusion matrix.\n",
        "    Normalization can be applied by setting `normalize=True`.\n",
        "    \"\"\"\n",
        "    plt.imshow(cm, interpolation='nearest', cmap=cmap)\n",
        "    plt.title(title)\n",
        "    plt.colorbar()\n",
        "    tick_marks = np.arange(len(classes))\n",
        "    plt.xticks(tick_marks, classes, rotation=45)\n",
        "    plt.yticks(tick_marks, classes)\n",
        "\n",
        "    if normalize:\n",
        "        cm = cm.astype('float') / cm.sum(axis=1)[:, np.newaxis]\n",
        "        print(\"Normalized confusion matrix\")\n",
        "    else:\n",
        "        print('Confusion matrix, without normalization')\n",
        "\n",
        "    print(cm)\n",
        "\n",
        "    thresh = cm.max() / 2.\n",
        "    for i, j in itertools.product(range(cm.shape[0]), range(cm.shape[1])):\n",
        "        plt.text(j, i, cm[i, j],\n",
        "            horizontalalignment=\"center\",\n",
        "            color=\"white\" if cm[i, j] > thresh else \"black\")\n",
        "\n",
        "    plt.tight_layout()\n",
        "    plt.ylabel('True label')\n",
        "    plt.xlabel('Predicted label')"
      ]
    },
    {
      "cell_type": "code",
      "execution_count": null,
      "metadata": {
        "id": "6GPhhtl1C3T8"
      },
      "outputs": [],
      "source": [
        "def get_MLP_model(input_dim, learning_rate, num_classes):\n",
        "    InputLayer = tf.keras.layers.InputLayer\n",
        "    Dense = tf.keras.layers.Dense\n",
        "    Flatten = tf.keras.layers.Flatten\n",
        "    LSTM = tf.keras.layers.LSTM\n",
        "\n",
        "    model = tf.keras.Sequential(\n",
        "      [\n",
        "          InputLayer(input_shape=input_dim),\n",
        "          LSTM(1024),\n",
        "          Dense(128, activation=tf.nn.relu),\n",
        "          Dense(num_classes, activation=tf.nn.softmax)\n",
        "      ])\n",
        "    optimizer = tf.keras.optimizers.Adam(\n",
        "        learning_rate=learning_rate)\n",
        "\n",
        "    model.compile(\n",
        "        loss='sparse_categorical_crossentropy', optimizer=optimizer, metrics=['accuracy'])\n",
        "    return model"
      ]
    },
    {
      "cell_type": "code",
      "execution_count": null,
      "metadata": {
        "colab": {
          "base_uri": "https://localhost:8080/"
        },
        "id": "lmUjpKSbDECE",
        "outputId": "2054399f-90d2-4b6b-b141-f7d0ed4bb4e3"
      },
      "outputs": [
        {
          "name": "stdout",
          "output_type": "stream",
          "text": [
            "(1, 128), (1,)\n",
            "(2, 128), (2,)\n"
          ]
        }
      ],
      "source": [
        "print(f'{X_train.shape}, {y_train.shape}')\n",
        "print(f'{X_test.shape}, {y_test.shape}')"
      ]
    },
    {
      "cell_type": "code",
      "execution_count": null,
      "metadata": {
        "colab": {
          "base_uri": "https://localhost:8080/"
        },
        "id": "fN9ukp1sERO9",
        "outputId": "cd9b1706-f287-41fa-857d-553ad3110103"
      },
      "outputs": [
        {
          "name": "stdout",
          "output_type": "stream",
          "text": [
            "50.0\n"
          ]
        },
        {
          "name": "stderr",
          "output_type": "stream",
          "text": [
            "/usr/local/lib/python3.10/dist-packages/sklearn/multiclass.py:77: UserWarning: Label not 0.0 is present in all training examples.\n",
            "  warnings.warn(\n"
          ]
        }
      ],
      "source": [
        "import numpy as np\n",
        "from sklearn.multiclass import OneVsRestClassifier\n",
        "from sklearn.svm import SVC\n",
        "clf = OneVsRestClassifier(SVC()).fit(X_train, y_train)\n",
        "y_pred2 = clf.predict(X_test)\n",
        "print(accuracy_score(y_test, y_pred2)*100)"
      ]
    },
    {
      "cell_type": "code",
      "execution_count": null,
      "metadata": {
        "colab": {
          "base_uri": "https://localhost:8080/"
        },
        "id": "kG4BhnLcEtUV",
        "outputId": "e62b58ab-3c1f-4104-b036-e6a3191a9d14"
      },
      "outputs": [
        {
          "name": "stdout",
          "output_type": "stream",
          "text": [
            "0.5\n",
            "1.0\n"
          ]
        }
      ],
      "source": [
        "from sklearn.ensemble import RandomForestClassifier\n",
        "model3 = RandomForestClassifier()\n",
        "model3.fit(X_train, y_train)\n",
        "print(model3.score(X_test, y_test))\n",
        "print(model3.score(X_train, y_train))"
      ]
    },
    {
      "cell_type": "code",
      "execution_count": null,
      "metadata": {
        "colab": {
          "base_uri": "https://localhost:8080/",
          "height": 596
        },
        "id": "XkvKiDwsME-0",
        "outputId": "4b82f6cc-74c8-484d-c136-57476f0b6800"
      },
      "outputs": [
        {
          "name": "stdout",
          "output_type": "stream",
          "text": [
            "Accuracy: 0.4\n"
          ]
        },
        {
          "data": {
            "image/png": "[encoded data removed]",
            "text/plain": [
              "<Figure size 800x600 with 2 Axes>"
            ]
          },
          "metadata": {},
          "output_type": "display_data"
        }
      ],
      "source": [
        "import numpy as np\n",
        "import matplotlib.pyplot as plt\n",
        "import seaborn as sns\n",
        "from sklearn.metrics import confusion_matrix, accuracy_score\n",
        "#\n",
        "from sklearn.ensemble import RandomForestClassifier\n",
        "from sklearn.model_selection import train_test_split\n",
        "\n",
        "\n",
        "# Tạo và đào tạo mô hình RandomForestClassifier\n",
        "clf = RandomForestClassifier(n_estimators=100, random_state=42)\n",
        "clf.fit(X_train, y_train)\n",
        "\n",
        "# Dự đoán trên tập kiểm tra\n",
        "y_pred = clf.predict(X_test)\n",
        "\n",
        "# Tính độ chính xác của mô hình\n",
        "accuracy = accuracy_score(y_test, y_pred)\n",
        "print(f'Accuracy: {accuracy}')\n",
        "\n",
        "# Replace these with your actual predictions and ground truth labels\n",
        "#predictions = np.array([0, 1, 0, 1, 0, 0, 1, 1, 0, 1])  # Replace with your predictions\n",
        "#test_label = np.array([0, 1, 0, 1, 1, 0, 1, 0, 1, 1])  # Replace with your ground truth labels\n",
        "\n",
        "# Define class labels (replace with your class labels)\n",
        "class_labels = ['A', 'B']\n",
        "\n",
        "# Calculate confusion matrix\n",
        "#cm = confusion_matrix(test_label, predictions)\n",
        "\n",
        "# Calculate accuracy\n",
        "#accuracy = accuracy_score(test_label, predictions) * 100\n",
        "\n",
        "# Calculate per-class accuracy\n",
        "per_class_accuracy = cm.diagonal() / cm.sum(axis=1)\n",
        "\n",
        "# Create a confusion matrix heatmap\n",
        "plt.figure(figsize=(8, 6))\n",
        "sns.set(font_scale=1.2)  # Adjust the font size if needed\n",
        "sns.heatmap(cm, annot=True, fmt='d', cmap='Blues', xticklabels=class_labels, yticklabels=class_labels)\n",
        "plt.xlabel('Predicted')\n",
        "plt.ylabel('True')\n",
        "plt.title(f'Confusion Matrix: Accuracy {accuracy:.2f}%')\n",
        "\n",
        "# Display per-class accuracy\n",
        "\n",
        "\n",
        "plt.show()"
      ]
    },
    {
      "cell_type": "code",
      "execution_count": null,
      "metadata": {
        "colab": {
          "base_uri": "https://localhost:8080/",
          "height": 490
        },
        "id": "mJvrQujaLIxM",
        "outputId": "1594d600-0260-4d2e-9eff-f64ef5f827cc"
      },
      "outputs": [
        {
          "name": "stdout",
          "output_type": "stream",
          "text": [
            "Accuracy: 0.5\n"
          ]
        },
        {
          "data": {
            "image/png": "[encoded data removed]",
            "text/plain": [
              "<Figure size 640x480 with 1 Axes>"
            ]
          },
          "metadata": {},
          "output_type": "display_data"
        }
      ],
      "source": [
        "import numpy as np\n",
        "import matplotlib.pyplot as plt\n",
        "from sklearn.ensemble import RandomForestClassifier\n",
        "from sklearn.metrics import accuracy_score\n",
        "from sklearn.model_selection import train_test_split\n",
        "\n",
        "\n",
        "# Tạo và đào tạo mô hình RandomForestClassifier\n",
        "clf = RandomForestClassifier(n_estimators=100, random_state=42)\n",
        "clf.fit(X_train, y_train)\n",
        "\n",
        "# Dự đoán trên tập kiểm tra\n",
        "y_pred = clf.predict(X_test)\n",
        "\n",
        "# Tính độ chính xác của mô hình\n",
        "accuracy = accuracy_score(y_test, y_pred)\n",
        "print(f'Accuracy: {accuracy}')\n",
        "\n",
        "# Vẽ biểu đồ dự đoán độ chính xác\n",
        "plt.plot([0, 1], [0, 1], 'k--')\n",
        "plt.plot([accuracy], marker='o', markersize=5, label='Accuracy', color='r')\n",
        "plt.xlabel('False Positive Rate')\n",
        "plt.ylabel('True Positive Rate')\n",
        "plt.title('Accuracy Plot')\n",
        "plt.legend(loc='lower right')\n",
        "plt.show()"
      ]
    },
    {
      "cell_type": "markdown",
      "metadata": {
        "id": "dnGI8zEdLG0N"
      },
      "source": [
        "model MLP\n"
      ]
    },
    {
      "cell_type": "code",
      "execution_count": null,
      "metadata": {
        "colab": {
          "base_uri": "https://localhost:8080/",
          "height": 338
        },
        "id": "BNXJoG90GIr9",
        "outputId": "afdcfa21-a8f1-4ae3-869b-8c6fe8214284"
      },
      "outputs": [
        {
          "ename": "ValueError",
          "evalue": "ignored",
          "output_type": "error",
          "traceback": [
            "\u001b[0;31m---------------------------------------------------------------------------\u001b[0m",
            "\u001b[0;31mValueError\u001b[0m                                Traceback (most recent call last)",
            "\u001b[0;32m<ipython-input-117-c3d755bef81d>\u001b[0m in \u001b[0;36m<cell line: 1>\u001b[0;34m()\u001b[0m\n\u001b[0;32m----> 1\u001b[0;31m \u001b[0mMLP_model\u001b[0m \u001b[0;34m=\u001b[0m \u001b[0mget_MLP_model\u001b[0m\u001b[0;34m(\u001b[0m\u001b[0mX_train\u001b[0m\u001b[0;34m[\u001b[0m\u001b[0;36m0\u001b[0m\u001b[0;34m]\u001b[0m\u001b[0;34m.\u001b[0m\u001b[0mshape\u001b[0m\u001b[0;34m,\u001b[0m \u001b[0;36m0.001\u001b[0m\u001b[0;34m,\u001b[0m \u001b[0mlen\u001b[0m\u001b[0;34m(\u001b[0m\u001b[0mnp\u001b[0m\u001b[0;34m.\u001b[0m\u001b[0munique\u001b[0m\u001b[0;34m(\u001b[0m\u001b[0my_train\u001b[0m\u001b[0;34m)\u001b[0m\u001b[0;34m)\u001b[0m\u001b[0;34m)\u001b[0m\u001b[0;34m\u001b[0m\u001b[0;34m\u001b[0m\u001b[0m\n\u001b[0m\u001b[1;32m      2\u001b[0m \u001b[0mMLP_model\u001b[0m\u001b[0;34m.\u001b[0m\u001b[0msummary\u001b[0m\u001b[0;34m(\u001b[0m\u001b[0;34m)\u001b[0m\u001b[0;34m\u001b[0m\u001b[0;34m\u001b[0m\u001b[0m\n",
            "\u001b[0;32m<ipython-input-111-4fe0b60c126f>\u001b[0m in \u001b[0;36mget_MLP_model\u001b[0;34m(input_dim, learning_rate, num_classes)\u001b[0m\n\u001b[1;32m      5\u001b[0m     \u001b[0mLSTM\u001b[0m \u001b[0;34m=\u001b[0m \u001b[0mtf\u001b[0m\u001b[0;34m.\u001b[0m\u001b[0mkeras\u001b[0m\u001b[0;34m.\u001b[0m\u001b[0mlayers\u001b[0m\u001b[0;34m.\u001b[0m\u001b[0mLSTM\u001b[0m\u001b[0;34m\u001b[0m\u001b[0;34m\u001b[0m\u001b[0m\n\u001b[1;32m      6\u001b[0m \u001b[0;34m\u001b[0m\u001b[0m\n\u001b[0;32m----> 7\u001b[0;31m     model = tf.keras.Sequential(\n\u001b[0m\u001b[1;32m      8\u001b[0m       [\n\u001b[1;32m      9\u001b[0m           \u001b[0mInputLayer\u001b[0m\u001b[0;34m(\u001b[0m\u001b[0minput_shape\u001b[0m\u001b[0;34m=\u001b[0m\u001b[0minput_dim\u001b[0m\u001b[0;34m)\u001b[0m\u001b[0;34m,\u001b[0m\u001b[0;34m\u001b[0m\u001b[0;34m\u001b[0m\u001b[0m\n",
            "\u001b[0;32m/usr/local/lib/python3.10/dist-packages/tensorflow/python/trackable/base.py\u001b[0m in \u001b[0;36m_method_wrapper\u001b[0;34m(self, *args, **kwargs)\u001b[0m\n\u001b[1;32m    202\u001b[0m     \u001b[0mself\u001b[0m\u001b[0;34m.\u001b[0m\u001b[0m_self_setattr_tracking\u001b[0m \u001b[0;34m=\u001b[0m \u001b[0;32mFalse\u001b[0m  \u001b[0;31m# pylint: disable=protected-access\u001b[0m\u001b[0;34m\u001b[0m\u001b[0;34m\u001b[0m\u001b[0m\n\u001b[1;32m    203\u001b[0m     \u001b[0;32mtry\u001b[0m\u001b[0;34m:\u001b[0m\u001b[0;34m\u001b[0m\u001b[0;34m\u001b[0m\u001b[0m\n\u001b[0;32m--> 204\u001b[0;31m       \u001b[0mresult\u001b[0m \u001b[0;34m=\u001b[0m \u001b[0mmethod\u001b[0m\u001b[0;34m(\u001b[0m\u001b[0mself\u001b[0m\u001b[0;34m,\u001b[0m \u001b[0;34m*\u001b[0m\u001b[0margs\u001b[0m\u001b[0;34m,\u001b[0m \u001b[0;34m**\u001b[0m\u001b[0mkwargs\u001b[0m\u001b[0;34m)\u001b[0m\u001b[0;34m\u001b[0m\u001b[0;34m\u001b[0m\u001b[0m\n\u001b[0m\u001b[1;32m    205\u001b[0m     \u001b[0;32mfinally\u001b[0m\u001b[0;34m:\u001b[0m\u001b[0;34m\u001b[0m\u001b[0;34m\u001b[0m\u001b[0m\n\u001b[1;32m    206\u001b[0m       \u001b[0mself\u001b[0m\u001b[0;34m.\u001b[0m\u001b[0m_self_setattr_tracking\u001b[0m \u001b[0;34m=\u001b[0m \u001b[0mprevious_value\u001b[0m  \u001b[0;31m# pylint: disable=protected-access\u001b[0m\u001b[0;34m\u001b[0m\u001b[0;34m\u001b[0m\u001b[0m\n",
            "\u001b[0;32m/usr/local/lib/python3.10/dist-packages/keras/src/utils/traceback_utils.py\u001b[0m in \u001b[0;36merror_handler\u001b[0;34m(*args, **kwargs)\u001b[0m\n\u001b[1;32m     68\u001b[0m             \u001b[0;31m# To get the full stack trace, call:\u001b[0m\u001b[0;34m\u001b[0m\u001b[0;34m\u001b[0m\u001b[0m\n\u001b[1;32m     69\u001b[0m             \u001b[0;31m# `tf.debugging.disable_traceback_filtering()`\u001b[0m\u001b[0;34m\u001b[0m\u001b[0;34m\u001b[0m\u001b[0m\n\u001b[0;32m---> 70\u001b[0;31m             \u001b[0;32mraise\u001b[0m \u001b[0me\u001b[0m\u001b[0;34m.\u001b[0m\u001b[0mwith_traceback\u001b[0m\u001b[0;34m(\u001b[0m\u001b[0mfiltered_tb\u001b[0m\u001b[0;34m)\u001b[0m \u001b[0;32mfrom\u001b[0m \u001b[0;32mNone\u001b[0m\u001b[0;34m\u001b[0m\u001b[0;34m\u001b[0m\u001b[0m\n\u001b[0m\u001b[1;32m     71\u001b[0m         \u001b[0;32mfinally\u001b[0m\u001b[0;34m:\u001b[0m\u001b[0;34m\u001b[0m\u001b[0;34m\u001b[0m\u001b[0m\n\u001b[1;32m     72\u001b[0m             \u001b[0;32mdel\u001b[0m \u001b[0mfiltered_tb\u001b[0m\u001b[0;34m\u001b[0m\u001b[0;34m\u001b[0m\u001b[0m\n",
            "\u001b[0;32m/usr/local/lib/python3.10/dist-packages/keras/src/engine/input_spec.py\u001b[0m in \u001b[0;36massert_input_compatibility\u001b[0;34m(input_spec, inputs, layer_name)\u001b[0m\n\u001b[1;32m    233\u001b[0m             \u001b[0mndim\u001b[0m \u001b[0;34m=\u001b[0m \u001b[0mshape\u001b[0m\u001b[0;34m.\u001b[0m\u001b[0mrank\u001b[0m\u001b[0;34m\u001b[0m\u001b[0;34m\u001b[0m\u001b[0m\n\u001b[1;32m    234\u001b[0m             \u001b[0;32mif\u001b[0m \u001b[0mndim\u001b[0m \u001b[0;34m!=\u001b[0m \u001b[0mspec\u001b[0m\u001b[0;34m.\u001b[0m\u001b[0mndim\u001b[0m\u001b[0;34m:\u001b[0m\u001b[0;34m\u001b[0m\u001b[0;34m\u001b[0m\u001b[0m\n\u001b[0;32m--> 235\u001b[0;31m                 raise ValueError(\n\u001b[0m\u001b[1;32m    236\u001b[0m                     \u001b[0;34mf'Input {input_index} of layer \"{layer_name}\" '\u001b[0m\u001b[0;34m\u001b[0m\u001b[0;34m\u001b[0m\u001b[0m\n\u001b[1;32m    237\u001b[0m                     \u001b[0;34m\"is incompatible with the layer: \"\u001b[0m\u001b[0;34m\u001b[0m\u001b[0;34m\u001b[0m\u001b[0m\n",
            "\u001b[0;31mValueError\u001b[0m: Input 0 of layer \"lstm_4\" is incompatible with the layer: expected ndim=3, found ndim=2. Full shape received: (None, 128)"
          ]
        }
      ],
      "source": [
        "MLP_model = get_MLP_model(X_train[0].shape, 0.001, len(np.unique(y_train)))\n",
        "MLP_model.summary()"
      ]
    },
    {
      "cell_type": "code",
      "execution_count": null,
      "metadata": {
        "colab": {
          "base_uri": "https://localhost:8080/",
          "height": 245
        },
        "id": "AI5BlGKYFiP8",
        "outputId": "3ba30cd8-f46e-4d1b-ee39-f4d1d34b8a41"
      },
      "outputs": [
        {
          "ename": "NameError",
          "evalue": "ignored",
          "output_type": "error",
          "traceback": [
            "\u001b[0;31m---------------------------------------------------------------------------\u001b[0m",
            "\u001b[0;31mNameError\u001b[0m                                 Traceback (most recent call last)",
            "\u001b[0;32m<ipython-input-115-5501d79b7720>\u001b[0m in \u001b[0;36m<cell line: 1>\u001b[0;34m()\u001b[0m\n\u001b[0;32m----> 1\u001b[0;31m predictions = MLP_model.predict(\n\u001b[0m\u001b[1;32m      2\u001b[0m       \u001b[0mx\u001b[0m\u001b[0;34m=\u001b[0m\u001b[0mX_test\u001b[0m\u001b[0;34m\u001b[0m\u001b[0;34m\u001b[0m\u001b[0m\n\u001b[1;32m      3\u001b[0m     \u001b[0;34m,\u001b[0m \u001b[0mbatch_size\u001b[0m\u001b[0;34m=\u001b[0m\u001b[0;36m1\u001b[0m\u001b[0;34m\u001b[0m\u001b[0;34m\u001b[0m\u001b[0m\n\u001b[1;32m      4\u001b[0m     \u001b[0;34m,\u001b[0m \u001b[0mverbose\u001b[0m\u001b[0;34m=\u001b[0m\u001b[0;36m2\u001b[0m\u001b[0;34m\u001b[0m\u001b[0;34m\u001b[0m\u001b[0m\n\u001b[1;32m      5\u001b[0m )  \n",
            "\u001b[0;31mNameError\u001b[0m: name 'MLP_model' is not defined"
          ]
        }
      ],
      "source": [
        "predictions = MLP_model.predict(\n",
        "      x=X_test\n",
        "    , batch_size=1\n",
        "    , verbose=2\n",
        ")\n",
        "\n",
        "# Rounding predictions values to map into confusion matrix\n",
        "rounded_predictions = np.argmax(predictions, axis=-1)\n",
        "\n",
        "cm_plot_labels = ['A', 'B']\n",
        "cm = confusion_matrix(y_true=y_test, y_pred=rounded_predictions)\n",
        "accuracy = accuracy_score(y_test, rounded_predictions) * 100\n",
        "plot_confusion_matrix(cm=cm, classes=cm_plot_labels, title=f'Confusion Matrix: MLP. Accuracy {accuracy:.02f}%')\n",
        "print(\"Per class: \", cm.diagonal()/cm.sum(axis=1))"
      ]
    },
    {
      "cell_type": "code",
      "execution_count": null,
      "metadata": {
        "colab": {
          "base_uri": "https://localhost:8080/",
          "height": 338
        },
        "id": "6nTiaQu3C6N1",
        "outputId": "56bf5715-100c-4b4e-a249-b4d2b7bcb994"
      },
      "outputs": [
        {
          "ename": "ValueError",
          "evalue": "ignored",
          "output_type": "error",
          "traceback": [
            "\u001b[0;31m---------------------------------------------------------------------------\u001b[0m",
            "\u001b[0;31mValueError\u001b[0m                                Traceback (most recent call last)",
            "\u001b[0;32m<ipython-input-112-b4770eb37f4d>\u001b[0m in \u001b[0;36m<cell line: 1>\u001b[0;34m()\u001b[0m\n\u001b[0;32m----> 1\u001b[0;31m \u001b[0mMLP_model\u001b[0m \u001b[0;34m=\u001b[0m \u001b[0mget_MLP_model\u001b[0m\u001b[0;34m(\u001b[0m\u001b[0mX_train\u001b[0m\u001b[0;34m[\u001b[0m\u001b[0;36m0\u001b[0m\u001b[0;34m]\u001b[0m\u001b[0;34m.\u001b[0m\u001b[0mshape\u001b[0m\u001b[0;34m,\u001b[0m \u001b[0;36m0.1\u001b[0m\u001b[0;34m,\u001b[0m \u001b[0mlen\u001b[0m\u001b[0;34m(\u001b[0m\u001b[0mnp\u001b[0m\u001b[0;34m.\u001b[0m\u001b[0munique\u001b[0m\u001b[0;34m(\u001b[0m\u001b[0my_train\u001b[0m\u001b[0;34m)\u001b[0m\u001b[0;34m)\u001b[0m\u001b[0;34m)\u001b[0m\u001b[0;34m\u001b[0m\u001b[0;34m\u001b[0m\u001b[0m\n\u001b[0m\u001b[1;32m      2\u001b[0m \u001b[0mMLP_model\u001b[0m\u001b[0;34m.\u001b[0m\u001b[0msummary\u001b[0m\u001b[0;34m(\u001b[0m\u001b[0;34m)\u001b[0m\u001b[0;34m\u001b[0m\u001b[0;34m\u001b[0m\u001b[0m\n",
            "\u001b[0;32m<ipython-input-111-4fe0b60c126f>\u001b[0m in \u001b[0;36mget_MLP_model\u001b[0;34m(input_dim, learning_rate, num_classes)\u001b[0m\n\u001b[1;32m      5\u001b[0m     \u001b[0mLSTM\u001b[0m \u001b[0;34m=\u001b[0m \u001b[0mtf\u001b[0m\u001b[0;34m.\u001b[0m\u001b[0mkeras\u001b[0m\u001b[0;34m.\u001b[0m\u001b[0mlayers\u001b[0m\u001b[0;34m.\u001b[0m\u001b[0mLSTM\u001b[0m\u001b[0;34m\u001b[0m\u001b[0;34m\u001b[0m\u001b[0m\n\u001b[1;32m      6\u001b[0m \u001b[0;34m\u001b[0m\u001b[0m\n\u001b[0;32m----> 7\u001b[0;31m     model = tf.keras.Sequential(\n\u001b[0m\u001b[1;32m      8\u001b[0m       [\n\u001b[1;32m      9\u001b[0m           \u001b[0mInputLayer\u001b[0m\u001b[0;34m(\u001b[0m\u001b[0minput_shape\u001b[0m\u001b[0;34m=\u001b[0m\u001b[0minput_dim\u001b[0m\u001b[0;34m)\u001b[0m\u001b[0;34m,\u001b[0m\u001b[0;34m\u001b[0m\u001b[0;34m\u001b[0m\u001b[0m\n",
            "\u001b[0;32m/usr/local/lib/python3.10/dist-packages/tensorflow/python/trackable/base.py\u001b[0m in \u001b[0;36m_method_wrapper\u001b[0;34m(self, *args, **kwargs)\u001b[0m\n\u001b[1;32m    202\u001b[0m     \u001b[0mself\u001b[0m\u001b[0;34m.\u001b[0m\u001b[0m_self_setattr_tracking\u001b[0m \u001b[0;34m=\u001b[0m \u001b[0;32mFalse\u001b[0m  \u001b[0;31m# pylint: disable=protected-access\u001b[0m\u001b[0;34m\u001b[0m\u001b[0;34m\u001b[0m\u001b[0m\n\u001b[1;32m    203\u001b[0m     \u001b[0;32mtry\u001b[0m\u001b[0;34m:\u001b[0m\u001b[0;34m\u001b[0m\u001b[0;34m\u001b[0m\u001b[0m\n\u001b[0;32m--> 204\u001b[0;31m       \u001b[0mresult\u001b[0m \u001b[0;34m=\u001b[0m \u001b[0mmethod\u001b[0m\u001b[0;34m(\u001b[0m\u001b[0mself\u001b[0m\u001b[0;34m,\u001b[0m \u001b[0;34m*\u001b[0m\u001b[0margs\u001b[0m\u001b[0;34m,\u001b[0m \u001b[0;34m**\u001b[0m\u001b[0mkwargs\u001b[0m\u001b[0;34m)\u001b[0m\u001b[0;34m\u001b[0m\u001b[0;34m\u001b[0m\u001b[0m\n\u001b[0m\u001b[1;32m    205\u001b[0m     \u001b[0;32mfinally\u001b[0m\u001b[0;34m:\u001b[0m\u001b[0;34m\u001b[0m\u001b[0;34m\u001b[0m\u001b[0m\n\u001b[1;32m    206\u001b[0m       \u001b[0mself\u001b[0m\u001b[0;34m.\u001b[0m\u001b[0m_self_setattr_tracking\u001b[0m \u001b[0;34m=\u001b[0m \u001b[0mprevious_value\u001b[0m  \u001b[0;31m# pylint: disable=protected-access\u001b[0m\u001b[0;34m\u001b[0m\u001b[0;34m\u001b[0m\u001b[0m\n",
            "\u001b[0;32m/usr/local/lib/python3.10/dist-packages/keras/src/utils/traceback_utils.py\u001b[0m in \u001b[0;36merror_handler\u001b[0;34m(*args, **kwargs)\u001b[0m\n\u001b[1;32m     68\u001b[0m             \u001b[0;31m# To get the full stack trace, call:\u001b[0m\u001b[0;34m\u001b[0m\u001b[0;34m\u001b[0m\u001b[0m\n\u001b[1;32m     69\u001b[0m             \u001b[0;31m# `tf.debugging.disable_traceback_filtering()`\u001b[0m\u001b[0;34m\u001b[0m\u001b[0;34m\u001b[0m\u001b[0m\n\u001b[0;32m---> 70\u001b[0;31m             \u001b[0;32mraise\u001b[0m \u001b[0me\u001b[0m\u001b[0;34m.\u001b[0m\u001b[0mwith_traceback\u001b[0m\u001b[0;34m(\u001b[0m\u001b[0mfiltered_tb\u001b[0m\u001b[0;34m)\u001b[0m \u001b[0;32mfrom\u001b[0m \u001b[0;32mNone\u001b[0m\u001b[0;34m\u001b[0m\u001b[0;34m\u001b[0m\u001b[0m\n\u001b[0m\u001b[1;32m     71\u001b[0m         \u001b[0;32mfinally\u001b[0m\u001b[0;34m:\u001b[0m\u001b[0;34m\u001b[0m\u001b[0;34m\u001b[0m\u001b[0m\n\u001b[1;32m     72\u001b[0m             \u001b[0;32mdel\u001b[0m \u001b[0mfiltered_tb\u001b[0m\u001b[0;34m\u001b[0m\u001b[0;34m\u001b[0m\u001b[0m\n",
            "\u001b[0;32m/usr/local/lib/python3.10/dist-packages/keras/src/engine/input_spec.py\u001b[0m in \u001b[0;36massert_input_compatibility\u001b[0;34m(input_spec, inputs, layer_name)\u001b[0m\n\u001b[1;32m    233\u001b[0m             \u001b[0mndim\u001b[0m \u001b[0;34m=\u001b[0m \u001b[0mshape\u001b[0m\u001b[0;34m.\u001b[0m\u001b[0mrank\u001b[0m\u001b[0;34m\u001b[0m\u001b[0;34m\u001b[0m\u001b[0m\n\u001b[1;32m    234\u001b[0m             \u001b[0;32mif\u001b[0m \u001b[0mndim\u001b[0m \u001b[0;34m!=\u001b[0m \u001b[0mspec\u001b[0m\u001b[0;34m.\u001b[0m\u001b[0mndim\u001b[0m\u001b[0;34m:\u001b[0m\u001b[0;34m\u001b[0m\u001b[0;34m\u001b[0m\u001b[0m\n\u001b[0;32m--> 235\u001b[0;31m                 raise ValueError(\n\u001b[0m\u001b[1;32m    236\u001b[0m                     \u001b[0;34mf'Input {input_index} of layer \"{layer_name}\" '\u001b[0m\u001b[0;34m\u001b[0m\u001b[0;34m\u001b[0m\u001b[0m\n\u001b[1;32m    237\u001b[0m                     \u001b[0;34m\"is incompatible with the layer: \"\u001b[0m\u001b[0;34m\u001b[0m\u001b[0;34m\u001b[0m\u001b[0m\n",
            "\u001b[0;31mValueError\u001b[0m: Input 0 of layer \"lstm_3\" is incompatible with the layer: expected ndim=3, found ndim=2. Full shape received: (None, 128)"
          ]
        }
      ],
      "source": [
        "MLP_model = get_MLP_model(X_train[0].shape, 0.1, len(np.unique(y_train)))\n",
        "MLP_model.summary()"
      ]
    }
  ],
  "metadata": {
    "colab": {
      "provenance": []
    },
    "kernelspec": {
      "display_name": "Python 3",
      "name": "python3"
    },
    "language_info": {
      "codemirror_mode": {
        "name": "ipython",
        "version": 3
      },
      "file_extension": ".py",
      "mimetype": "text/x-python",
      "name": "python",
      "nbconvert_exporter": "python",
      "pygments_lexer": "ipython3",
      "version": "3.10.7"
    }
  },
  "nbformat": 4,
  "nbformat_minor": 0
}
