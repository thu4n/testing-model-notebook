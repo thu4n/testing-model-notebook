{
  "cells": [
    {
      "cell_type": "markdown",
      "metadata": {
        "id": "Qfr-5POhnBXJ"
      },
      "source": [
        "# Load dataset"
      ]
    },
    {
      "cell_type": "code",
      "source": [
        "from google.colab import drive\n",
        "drive.mount('/content/drive')"
      ],
      "metadata": {
        "id": "XOLN8N93j85Z",
        "outputId": "65c675a7-6587-4751-e75e-c13300b86d46",
        "colab": {
          "base_uri": "https://localhost:8080/"
        }
      },
      "execution_count": 1,
      "outputs": [
        {
          "output_type": "stream",
          "name": "stdout",
          "text": [
            "Mounted at /content/drive\n"
          ]
        }
      ]
    },
    {
      "cell_type": "code",
      "execution_count": 5,
      "metadata": {
        "id": "wiLYp5p6F79o",
        "outputId": "9cd9332b-fe90-4378-c31c-1dee7c548d10",
        "colab": {
          "base_uri": "https://localhost:8080/"
        }
      },
      "outputs": [
        {
          "output_type": "stream",
          "name": "stdout",
          "text": [
            "        pathloss  doppler shift label\n",
            "0     -23.265006       3.722180    NA\n",
            "1     -16.482655       1.153439    NA\n",
            "2     -14.824642       0.859113    NA\n",
            "3     -18.508977      -1.653258    NA\n",
            "4     -12.481515       1.505040    LA\n",
            "...          ...            ...   ...\n",
            "22004 -12.296848      -1.881210    NA\n",
            "22005   4.667890      -0.824496    NA\n",
            "22006  -1.851043      -2.783185    NA\n",
            "22007   4.722575      -1.217843    NA\n",
            "22008  -0.278318      -1.183628    NA\n",
            "\n",
            "[22009 rows x 3 columns]\n"
          ]
        }
      ],
      "source": [
        "import pandas as pd\n",
        "\n",
        "# read csv file into a pandas dataframe and keep NA values\n",
        "df = pd.read_csv('/tch-pca-2.csv.updated.csv',keep_default_na=False)\n",
        "print(df)"
      ]
    },
    {
      "cell_type": "markdown",
      "source": [
        "# Thống kê các label"
      ],
      "metadata": {
        "id": "UDRnjXPwmB7i"
      }
    },
    {
      "cell_type": "code",
      "source": [
        "import matplotlib.pyplot as plt\n",
        "value_counts = df['label'].value_counts().sort_values(ascending=False)\n",
        "print(value_counts)"
      ],
      "metadata": {
        "id": "wplObHPEmG3c",
        "outputId": "ff75ef6d-8367-40ab-dea0-81c2a467776a",
        "colab": {
          "base_uri": "https://localhost:8080/"
        }
      },
      "execution_count": 6,
      "outputs": [
        {
          "output_type": "stream",
          "name": "stdout",
          "text": [
            "NA    10995\n",
            "SO     2224\n",
            "JJ     2205\n",
            "LA     1716\n",
            "LL     1645\n",
            "RL     1641\n",
            "RA     1583\n",
            "Name: label, dtype: int64\n"
          ]
        }
      ]
    }
  ],
  "metadata": {
    "colab": {
      "provenance": []
    },
    "kernelspec": {
      "display_name": "Python 3",
      "name": "python3"
    },
    "language_info": {
      "codemirror_mode": {
        "name": "ipython",
        "version": 3
      },
      "file_extension": ".py",
      "mimetype": "text/x-python",
      "name": "python",
      "nbconvert_exporter": "python",
      "pygments_lexer": "ipython3",
      "version": "3.10.7"
    }
  },
  "nbformat": 4,
  "nbformat_minor": 0
}