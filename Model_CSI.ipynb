{
  "nbformat": 4,
  "nbformat_minor": 0,
  "metadata": {
    "colab": {
      "provenance": [],
      "toc_visible": true
    },
    "kernelspec": {
      "name": "python3",
      "display_name": "Python 3"
    },
    "language_info": {
      "name": "python"
    }
  },
  "cells": [
    {
      "cell_type": "markdown",
      "source": [
        "# Biến đổi file CSV thành npy"
      ],
      "metadata": {
        "id": "38tVcq1uw9SL"
      }
    },
    {
      "cell_type": "code",
      "execution_count": null,
      "metadata": {
        "colab": {
          "base_uri": "https://localhost:8080/"
        },
        "id": "ytlM-Awxw1_t",
        "outputId": "5ff31325-c422-47f5-a35b-3e758ce0689d"
      },
      "outputs": [
        {
          "output_type": "stream",
          "name": "stdout",
          "text": [
            "Mounted at /content/drive\n"
          ]
        }
      ],
      "source": [
        "from google.colab import drive\n",
        "drive.mount('/content/drive')"
      ]
    },
    {
      "cell_type": "code",
      "source": [
        "import csv\n",
        "import os\n",
        "import numpy as np\n",
        "import ast\n",
        "# label to check\n",
        "Label_0 =\"LA\"\n",
        "Label_1 =\"RA\"\n",
        "Label_2 =\"LL\"\n",
        "Label_3 =\"RL\"\n",
        "Label_4 =\"JJ\"\n",
        "Label_5 =\"SO\"\n",
        "# data to save\n",
        "data_0 = []  # LA\n",
        "data_1 = []  # RA\n",
        "data_2 = []  # LL\n",
        "data_3 = []  # RL\n",
        "data_4 = []  # JJ\n",
        "data_5 = []  # SO\n",
        "\n",
        "\n",
        "#column_to_check_label input is index columns label ,  column_to_data is index columns data csi\n",
        "def split_csv(input_file, output_prefix, lines_per_file, column_to_check_label,column_to_data):\n",
        "    with open(input_file, 'r') as file:\n",
        "        reader = csv.reader(file)\n",
        "        header = next(reader)\n",
        "        file_number = 0\n",
        "        for row in reader:\n",
        "            data = row[column_to_data].replace(\" \",\",\")\n",
        "            new_data = np.array(ast.literal_eval(data))\n",
        "            if row[column_to_check_label] == \"LA\" :\n",
        "             data_0.append(new_data)\n",
        "            elif row[column_to_check_label] == \"RA\" :\n",
        "             data_1.append(new_data)\n",
        "            elif row[column_to_check_label] == \"LL\" :\n",
        "             data_2.append(new_data)\n",
        "            elif row[column_to_check_label] == \"RL\" :\n",
        "             data_3.append(new_data)\n",
        "            elif row[column_to_check_label] == \"JJ\" :\n",
        "             data_4.append(new_data)\n",
        "            elif row[column_to_check_label] == \"SO\" :\n",
        "             data_5.append(new_data)\n",
        "            else:\n",
        "              continue\n",
        "        np.save(f'{output_prefix}LA.npy', np.array(data_0))\n",
        "        #loaded_array = np.load(f'{output_prefix}LA_0.npy.npy')\n",
        "\n",
        "        np.save(f'{output_prefix}RA.npy', np.array(data_1))\n",
        "       # loaded_array = np.load(f'{output_prefix}RA_0.npy.npy')\n",
        "\n",
        "        np.save(f'{output_prefix}LL.npy', np.array(data_2))\n",
        "       # loaded_array = np.load(f'{output_prefix}LL_0.npy.npy')\n",
        "\n",
        "        np.save(f'{output_prefix}RL.npy', np.array(data_3))\n",
        "        #loaded_array = np.load(f'{output_prefix}RL_0.npy.npy')\n",
        "\n",
        "        np.save(f'{output_prefix}JJ.npy', np.array(data_4))\n",
        "        #loaded_array = np.load(f'{output_prefix}JJ_0.npy.npy')\n",
        "\n",
        "        np.save(f'{output_prefix}SO.npy', np.array(data_5))\n",
        "       # loaded_array = np.load(f'{output_prefix}SO_0.npy.npy')\n",
        "# Print the loaded array\n",
        "\n",
        "\n",
        "split_csv('/content/drive/MyDrive/nckh/Data_real.csv', '/content/drive/MyDrive/nckh/dataset/', 1000, 26,25)"
      ],
      "metadata": {
        "id": "5nZho_q8xIsq"
      },
      "execution_count": null,
      "outputs": []
    },
    {
      "cell_type": "code",
      "source": [
        "import numpy as np\n",
        "import os\n",
        "\n",
        "# Đọc mảng từ tệp .npy\n",
        "input_file = '/content/drive/MyDrive/nckh/dataset/SO.npy'\n",
        "output_file = '/content/drive/MyDrive/nckh/dataset/'\n",
        "arr = np.load(input_file)\n",
        "\n",
        "num_rows_per_subarray = 500\n",
        "num_subarrays = len(arr) // num_rows_per_subarray\n",
        "\n",
        "subarrays = []\n",
        "\n",
        "# Trích xuất tên tệp đầu vào (loại bỏ phần mở rộng .npy)\n",
        "input_filename_without_extension = os.path.splitext(input_file)[0]\n",
        "\n",
        "for i in range(num_subarrays):\n",
        "    start_idx = i * num_rows_per_subarray\n",
        "    end_idx = (i + 1) * num_rows_per_subarray\n",
        "    subarray = arr[start_idx:end_idx]\n",
        "    # Đặt tên cho tệp con bằng tên tệp đầu vào kèm theo số thứ tự\n",
        "    filename = f\"{input_filename_without_extension}_{i}.npy\"\n",
        "    np.save(filename, subarray)"
      ],
      "metadata": {
        "id": "JxHdWmwN7thS"
      },
      "execution_count": null,
      "outputs": []
    }
  ]
}